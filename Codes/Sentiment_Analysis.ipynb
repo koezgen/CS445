{
  "nbformat": 4,
  "nbformat_minor": 0,
  "metadata": {
    "colab": {
      "provenance": []
    },
    "kernelspec": {
      "name": "python3",
      "display_name": "Python 3"
    },
    "language_info": {
      "name": "python"
    }
  },
  "cells": [
    {
      "cell_type": "markdown",
      "source": [
        "# Sentiment Analysis Example\n",
        "\n",
        "We went over a simple sentiment analysis example in the previous lecture. Today we will go over the steps of the example with a practical code.\n",
        "\n",
        "Decisions to take for any analysis:\n",
        "- Input data\n",
        "- Possible outputs\n",
        "- Decision algorithm\n",
        "- Evaluation method\n",
        "\n",
        "\n",
        "\n",
        "For this sentiment analysis exercise, we will have only the text data to decide whether it is positive or negative while using the dictionary method. At the end, we will evaluate our system with the movie_reviews dataset of NLTK using accuracy measure.\n"
      ],
      "metadata": {
        "id": "oClXSRgQI755"
      }
    },
    {
      "cell_type": "code",
      "source": [
        "#import libraries\n",
        "#download corpora\n",
        "\n",
        "import nltk\n",
        "\n",
        "nltk.download('movie_reviews')\n",
        "nltk.download('punkt')\n",
        "nltk.download('stopwords')\n",
        "nltk.download('opinion_lexicon')\n",
        "\n",
        "\n",
        "from nltk import word_tokenize\n",
        "from nltk import punkt\n",
        "from nltk.corpus import stopwords\n",
        "from nltk.corpus import opinion_lexicon\n",
        "from nltk.corpus import movie_reviews\n",
        "import numpy as np\n"
      ],
      "metadata": {
        "id": "0CFIZOikqB4b"
      },
      "execution_count": null,
      "outputs": []
    },
    {
      "cell_type": "code",
      "source": [
        "def sentiment_score(input_tokens, positive_words, negative_words):\n",
        "    '''\n",
        "    type input_text: string\n",
        "    param input_text: The text to be analyzed\n",
        "    type positive_words: list\n",
        "    param positive_words: The list of positive words from the lexicon\n",
        "    type negative_words: list\n",
        "    param negative_words: The list of negative words from the lexicon\n",
        "    rtype: score\n",
        "    return: sentiment score of the input text\n",
        "    '''\n",
        "\n",
        "    score = 0\n",
        "    for token in input_tokens:\n",
        "      if token in positive_words:\n",
        "        score+=1\n",
        "      elif token in negative_words:\n",
        "        score-=1\n",
        "\n",
        "    return score"
      ],
      "metadata": {
        "id": "8P-i1e-vmNdx"
      },
      "execution_count": null,
      "outputs": []
    },
    {
      "cell_type": "code",
      "source": [
        "def preprocess_text(input_text):\n",
        "    '''\n",
        "    type input_text: string\n",
        "    param input_text: The text to be analyzed\n",
        "    rtype: list\n",
        "    return: input tokens\n",
        "    '''\n",
        "\n",
        "    #small preprocessing without lemmatization, stemming, part-of-speech tagging,...\n",
        "    tokens = word_tokenize(input_text.lower(), language='english')\n",
        "\n",
        "    filtered_tokens = [token for token in tokens if token not in stopwords.words('english')]\n",
        "\n",
        "    return filtered_tokens"
      ],
      "metadata": {
        "id": "Q2jNa1IopxXp"
      },
      "execution_count": null,
      "outputs": []
    },
    {
      "cell_type": "code",
      "source": [
        "\n",
        "\n",
        "pos_list=set(opinion_lexicon.positive())\n",
        "neg_list=set(opinion_lexicon.negative())\n",
        "\n",
        "input_text = 'This is disgusting.'\n",
        "tokens = preprocess_text(input_text)\n",
        "print(sentiment_score(tokens,pos_list,neg_list))\n",
        "\n"
      ],
      "metadata": {
        "id": "QvFQYFQjk6Hv"
      },
      "execution_count": null,
      "outputs": []
    },
    {
      "cell_type": "code",
      "execution_count": null,
      "metadata": {
        "id": "15eNHVfmFMB3"
      },
      "outputs": [],
      "source": [
        "#let's write an evaluator for the sentiment score method\n",
        "def evaluate(sentiment_predicted_labels, sentiment_gold_labels):\n",
        "    '''\n",
        "    type sentiment_predicted_labels: list\n",
        "    param sentiment_predicted_labels: The predicted labels for sentiments\n",
        "    type sentiment_gold_labels: list\n",
        "    param sentiment_gold_labels: The list of sentiment gold standard labels\n",
        "    rtype: float\n",
        "    return: accuracy of the predicted labels\n",
        "    '''\n",
        "\n",
        "    predicted_np = np.array(sentiment_predicted_labels)\n",
        "    gold_np = np.array(sentiment_gold_labels)\n",
        "\n",
        "    matched = (predicted_np == gold_np)\n",
        "    accuracy = matched.sum() / matched.size\n",
        "\n",
        "    return accuracy"
      ]
    },
    {
      "cell_type": "code",
      "source": [
        "\n",
        "from collections import defaultdict\n",
        "\n",
        "pos_list=set(opinion_lexicon.positive())\n",
        "neg_list=set(opinion_lexicon.negative())\n",
        "\n",
        "documents = defaultdict(list)\n",
        "\n",
        "for i in movie_reviews.fileids():\n",
        "    documents[i.split('/')[0]].append(i)\n",
        "\n",
        "sentiment_predicted_labels = []\n",
        "sentiment_gold_labels = []\n",
        "\n",
        "for neg_id in documents['neg']:\n",
        "  sentiment_gold_labels.append(False)\n",
        "  input_text = movie_reviews.raw(neg_id)\n",
        "  tokens = preprocess_text(input_text)\n",
        "  predicted_label = sentiment_score(tokens,pos_list,neg_list) > 0\n",
        "  sentiment_predicted_labels.append(predicted_label)\n",
        "\n",
        "for pos_id in documents['pos']:\n",
        "  sentiment_gold_labels.append(True)\n",
        "  input_text = movie_reviews.raw(pos_id)\n",
        "  tokens = preprocess_text(input_text)\n",
        "  predicted_label = sentiment_score(tokens,pos_list,neg_list) > 0\n",
        "  sentiment_predicted_labels.append(predicted_label)\n",
        "\n",
        "\n",
        "print('The accuracy measure for the sentiment analyzer is {:.2f}'.format(evaluate(sentiment_predicted_labels, sentiment_gold_labels)))\n",
        "\n",
        "\n"
      ],
      "metadata": {
        "id": "bh3RGBkky_LN"
      },
      "execution_count": null,
      "outputs": []
    }
  ]
}