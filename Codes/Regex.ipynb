{
  "nbformat": 4,
  "nbformat_minor": 0,
  "metadata": {
    "colab": {
      "provenance": []
    },
    "kernelspec": {
      "name": "python3",
      "display_name": "Python 3"
    },
    "language_info": {
      "name": "python"
    }
  },
  "cells": [
    {
      "cell_type": "markdown",
      "source": [
        "This week we have learned how to read and write regular expressions in the lecture. This is to see how regular expressions are used in Python to match patterns.\n",
        "\n",
        "Regular expressions are supported by the library re in Python."
      ],
      "metadata": {
        "id": "5Itl82ctsUWV"
      }
    },
    {
      "cell_type": "code",
      "source": [
        "import re\n",
        "\n",
        "#Let's try the example with cat from the lecture.\n",
        "text = 'The cat was trying to steal my food.'\n",
        "#The regex pattern to search for.\n",
        "pattern = 'cat'\n",
        "\n",
        "#Searching for the pattern in the text.\n",
        "found = re.search(pattern, text)\n",
        "\n",
        "\n",
        "if found:\n",
        "  print('There is a pattern match!')\n",
        "  print('The match index in the string : '+ str(found.span()) + ' starting from '+str(found.start())+' ending at '+str(found.end()))\n",
        "else:\n",
        "  print('the pattern does not match.')"
      ],
      "metadata": {
        "colab": {
          "base_uri": "https://localhost:8080/"
        },
        "id": "DzVkOPF_tdB1",
        "outputId": "9e97485e-c99b-491e-b58d-05736d35bd4c"
      },
      "execution_count": 7,
      "outputs": [
        {
          "output_type": "stream",
          "name": "stdout",
          "text": [
            "There is a pattern match!\n",
            "The match index in the string : (4, 7) starting from 4 ending at 7\n"
          ]
        }
      ]
    },
    {
      "cell_type": "markdown",
      "source": [
        "To find the pattern in a text, we will use search function. The search function will return a **Match** object. This object will have the index of the match in span() method. If there is no match, the returning value will be **None**.\n",
        "\n",
        "Search function will only match the first pattern."
      ],
      "metadata": {
        "id": "Jo3_Kl6-wTua"
      }
    },
    {
      "cell_type": "code",
      "source": [
        "text = 'This is a sentence.'\n",
        "pattern = '\\w+'\n",
        "\n",
        "found = re.search(pattern, text)\n",
        "\n",
        "print(str(found))\n"
      ],
      "metadata": {
        "colab": {
          "base_uri": "https://localhost:8080/"
        },
        "id": "4u4Cdm4XzMAS",
        "outputId": "5a9e30e5-d5f8-4ad5-c63a-86bc11006e48"
      },
      "execution_count": 12,
      "outputs": [
        {
          "output_type": "stream",
          "name": "stdout",
          "text": [
            "<re.Match object; span=(0, 4), match='This'>\n"
          ]
        }
      ]
    },
    {
      "cell_type": "code",
      "source": [
        "#to find all matches, we can use findall.\n",
        "\n",
        "found = re.findall(pattern, text)\n",
        "\n",
        "print(str(found))"
      ],
      "metadata": {
        "colab": {
          "base_uri": "https://localhost:8080/"
        },
        "id": "2QSy16Pvz9HC",
        "outputId": "15a61fc4-528f-4c8e-b0db-2b1109f71f76"
      },
      "execution_count": 13,
      "outputs": [
        {
          "output_type": "stream",
          "name": "stdout",
          "text": [
            "['This', 'is', 'a', 'sentence']\n"
          ]
        }
      ]
    },
    {
      "cell_type": "code",
      "source": [
        "#we can also split text using regex patterns.\n",
        "\n",
        "split_term = '\\s'\n",
        "\n",
        "splitted = re.split(split_term, text)\n",
        "\n",
        "print(splitted)"
      ],
      "metadata": {
        "colab": {
          "base_uri": "https://localhost:8080/"
        },
        "id": "aOR21zqg0Sa6",
        "outputId": "f9432f38-c6ae-482c-b64c-08de15b88503"
      },
      "execution_count": 14,
      "outputs": [
        {
          "output_type": "stream",
          "name": "stdout",
          "text": [
            "['This', 'is', 'a', 'sentence.']\n"
          ]
        }
      ]
    },
    {
      "cell_type": "markdown",
      "source": [
        "Using compiled patterns are better when you need to re-use the pattern in the future."
      ],
      "metadata": {
        "id": "uyGjo_nD1UgU"
      }
    },
    {
      "cell_type": "code",
      "source": [
        "text = 'The cats here are really tame. Istanbul kedileri çok tatlı.'\n",
        "\n",
        "pattern = '[Cc]at|[Kk]edi'\n",
        "\n",
        "cats = re.compile(pattern)\n",
        "\n",
        "found = cats.findall(text)\n",
        "\n",
        "print('All of the matches in the text: '+str(found))"
      ],
      "metadata": {
        "colab": {
          "base_uri": "https://localhost:8080/"
        },
        "id": "ze6pWgLM1URO",
        "outputId": "94cf9a79-93da-41a4-c920-61c93d448cb5"
      },
      "execution_count": 17,
      "outputs": [
        {
          "output_type": "stream",
          "name": "stdout",
          "text": [
            "All of the matches in the text: ['cat', 'kedi']\n"
          ]
        }
      ]
    },
    {
      "cell_type": "markdown",
      "source": [
        "This might not be efficient when you are going to use the pattern once in the program or the pattern is not complex. Let's look at the emoji removal code that we saw in the [lecture](https://gist.github.com/slowkow/7a7f61f495e3dbb7e3d767f97bd7304b)."
      ],
      "metadata": {
        "id": "-5xBLE085zRo"
      }
    },
    {
      "cell_type": "code",
      "source": [
        "def remove_emoji(string):\n",
        "    emoji_pattern = re.compile(\"[\"\n",
        "                           u\"\\U0001F600-\\U0001F64F\"  # emoticons\n",
        "                           u\"\\U0001F300-\\U0001F5FF\"  # symbols & pictographs\n",
        "                           u\"\\U0001F680-\\U0001F6FF\"  # transport & map symbols\n",
        "                           u\"\\U0001F1E0-\\U0001F1FF\"  # flags (iOS)\n",
        "                           u\"\\U00002702-\\U000027B0\"\n",
        "                           u\"\\U000024C2-\\U0001F251\"\n",
        "                           \"]+\", flags=re.UNICODE)\n",
        "    return emoji_pattern.sub(r'', string)"
      ],
      "metadata": {
        "id": "4DtgcHD91BQz"
      },
      "execution_count": 18,
      "outputs": []
    },
    {
      "cell_type": "code",
      "source": [
        "text =  'Have a nice weekend 💕'\n",
        "\n",
        "print(remove_emoji(text))"
      ],
      "metadata": {
        "colab": {
          "base_uri": "https://localhost:8080/"
        },
        "id": "u21V411u8c_I",
        "outputId": "f8bb5fc9-91bc-4bf9-d527-543600131c88"
      },
      "execution_count": 19,
      "outputs": [
        {
          "output_type": "stream",
          "name": "stdout",
          "text": [
            "Have a nice weekend \n"
          ]
        }
      ]
    }
  ]
}