{
 "cells": [
  {
   "cell_type": "markdown",
   "metadata": {
    "id": "pKZ5sA4w89xG"
   },
   "source": [
    "# **Match Song Lyrics to Artists**\n",
    "\n",
    "In this assignment, you are asked to match song lyrics to their respective artists. Steps to the assignment:\n",
    "1. Download the song lyrics. You can download the data from this link: https://www.kaggle.com/datasets/deepshah16/song-lyrics-dataset/data\n",
    "1. Preprocess your dataset to your liking. You are free to use any preprocessing with any libraries. Make sure to apply the preprocessing to the whole dataset, even the test part.\n",
    "1. Split your dataset into train/dev/test sets with 0.70/0.15/0.15 proportions. Select a random state number and use it consistently to get the same sets while iterating. **This is very important!**\n",
    "1. Select your features for the task: word n-grams (unigram, bigram, trigram), character n-grams, TF-IDF, and so on.\n",
    "1. Use three different approaches to solve the task: Some examples are Naive Bayes, Logistic Regression, SVM, KNNs, and neural networks classification methods with the dataset. **You need to select Naive Bayes as one of the methods and code Naive Bayes with the MLE approach from scratch.**\n",
    "1. Compare different classification methods and show confusion matrices for each method.\n",
    "1. Write a small report on your approaches and results.\n",
    "\n",
    "\n",
    "## Rules\n",
    "### Allowed:\n",
    " - Use any libraries for preprocessing, feature selection, vector making, training, and predicting for the task, **other than the Naive Bayes classifier**.\n",
    " - Adding additional coding blocks\n",
    " - Use spaCy for Named Entity Recognition and Part-of-Speech tagging (next week's content but will be helpful for this assignment)\n",
    "\n",
    "### Not allowed:\n",
    " - Using metadata in the dataset given. You must use **only** the lyrics of the song. For example, do not use the release year to assign authorship.\n",
    " - **You need to write your own Naive Bayes classifier.** Using the Naive Bayes classifier from an external library is not allowed.\n",
    " - Running your code with the test split of your data. You can run this just before you submit your system. We will run your system on your test data in the evaluation.\n",
    " - Changing the contents of the evaluation block at the end of the notebook.\n",
    "\n",
    "## Assignment Report\n",
    "Please write a short assignment report at the end of the notebook (max 500 words). Please include all of the following points in the report:\n",
    " - Preprocessing method\n",
    " - Selection of the features and the reasoning for the selections\n",
    " - Selection of the classification methods and the reasoning for the selection\n",
    " - Challenges you have faced while writing the tokenizer and challenges with the specific corpus\n",
    " - Limitations of your approach\n",
    " - Possible improvements to the system\n",
    "\n",
    "## Grading\n",
    "You will be graded with the following criteria:\n",
    " - running complete code (0.5),\n",
    " - clear commenting (0.5),\n",
    " - data loading and concatenation (0.5),\n",
    " - exploratory data analysis (EDA) - Artist Histogram Plot (0.5)\n",
    " - preprocessing function (0.5)\n",
    " - naive bayes implementation (1)\n",
    " - feature engineering (1)\n",
    " - model training and evaluation for at least 3 classification methods (including naive bayes) (1.5)\n",
    " - confusion matrix for each method (0.5)\n",
    " - assignment report (1).\n",
    "\n",
    "Total points for this assignment = 7.5\n",
    "\n",
    "You can get bonus points (maximum 0.5) by trying neural networks as one of the classifiers.\n",
    "\n",
    "## Submission\n",
    "\n",
    "Submission will be made to SUCourse. Please submit your file using the following naming convention.\n",
    "\n",
    "\n",
    "`studentid_studentname_tokenizer.ipynb  - ex. 26744_aysegulrana_tokenizer.ipynb`\n",
    "\n",
    "\n",
    "**Deadline is November 14nd, 23.55pm.**"
   ]
  },
  {
   "cell_type": "markdown",
   "metadata": {
    "id": "Q3PJZ9239Jsi"
   },
   "source": [
    "### 1. Data Loading and Concatenation  (hint: use zipfile library for loading the zip file and concatenate the csv files)\n",
    "\n",
    "Use pandas library to read your dataset into df object below."
   ]
  },
  {
   "cell_type": "code",
   "execution_count": 6,
   "metadata": {
    "id": "WelqKpTtIn9H"
   },
   "outputs": [],
   "source": [
    "#####\n",
    "#Download the lyrics from the link into your folder and read it with zip file\n",
    "#Assign the file contents into df object that is from pandas library.\n",
    "\n",
    "import zipfile\n",
    "import pandas as pd\n",
    "import os\n",
    "\n",
    "from zipfile import ZipFile\n",
    "\n",
    "with open(\"archive.zip\", \"rb\") as file:\n",
    "    z = zipfile.ZipFile(file)\n",
    "    z.extractall()"
   ]
  },
  {
   "cell_type": "code",
   "execution_count": 73,
   "metadata": {},
   "outputs": [],
   "source": [
    "df = pd.DataFrame()"
   ]
  },
  {
   "cell_type": "code",
   "execution_count": 74,
   "metadata": {},
   "outputs": [],
   "source": [
    "with os.scandir(\"csv\") as folder:\n",
    "    for file in folder:\n",
    "        df = pd.concat([df, pd.read_csv(file)], ignore_index=True)"
   ]
  },
  {
   "cell_type": "code",
   "execution_count": 75,
   "metadata": {
    "id": "Pl1uqwPRJqb7"
   },
   "outputs": [
    {
     "data": {
      "text/html": [
       "<div>\n",
       "<style scoped>\n",
       "    .dataframe tbody tr th:only-of-type {\n",
       "        vertical-align: middle;\n",
       "    }\n",
       "\n",
       "    .dataframe tbody tr th {\n",
       "        vertical-align: top;\n",
       "    }\n",
       "\n",
       "    .dataframe thead th {\n",
       "        text-align: right;\n",
       "    }\n",
       "</style>\n",
       "<table border=\"1\" class=\"dataframe\">\n",
       "  <thead>\n",
       "    <tr style=\"text-align: right;\">\n",
       "      <th></th>\n",
       "      <th>Artist</th>\n",
       "      <th>Title</th>\n",
       "      <th>Album</th>\n",
       "      <th>Date</th>\n",
       "      <th>Lyric</th>\n",
       "      <th>Year</th>\n",
       "      <th>Unnamed: 0</th>\n",
       "    </tr>\n",
       "  </thead>\n",
       "  <tbody>\n",
       "    <tr>\n",
       "      <th>0</th>\n",
       "      <td>Ariana Grande</td>\n",
       "      <td>​thank u, next</td>\n",
       "      <td>thank u, next</td>\n",
       "      <td>2018-11-03</td>\n",
       "      <td>thought i'd end up with sean but he wasn't a m...</td>\n",
       "      <td>2018.0</td>\n",
       "      <td>NaN</td>\n",
       "    </tr>\n",
       "    <tr>\n",
       "      <th>1</th>\n",
       "      <td>Ariana Grande</td>\n",
       "      <td>7 rings</td>\n",
       "      <td>thank u, next</td>\n",
       "      <td>2019-01-18</td>\n",
       "      <td>yeah breakfast at tiffany's and bottles of bub...</td>\n",
       "      <td>2019.0</td>\n",
       "      <td>NaN</td>\n",
       "    </tr>\n",
       "    <tr>\n",
       "      <th>2</th>\n",
       "      <td>Ariana Grande</td>\n",
       "      <td>​God is a woman</td>\n",
       "      <td>Sweetener</td>\n",
       "      <td>2018-07-13</td>\n",
       "      <td>you you love it how i move you you love it how...</td>\n",
       "      <td>2018.0</td>\n",
       "      <td>NaN</td>\n",
       "    </tr>\n",
       "    <tr>\n",
       "      <th>3</th>\n",
       "      <td>Ariana Grande</td>\n",
       "      <td>Side To Side</td>\n",
       "      <td>Dangerous Woman</td>\n",
       "      <td>2016-05-20</td>\n",
       "      <td>ariana grande  nicki minaj i've been here all ...</td>\n",
       "      <td>2016.0</td>\n",
       "      <td>NaN</td>\n",
       "    </tr>\n",
       "    <tr>\n",
       "      <th>4</th>\n",
       "      <td>Ariana Grande</td>\n",
       "      <td>​​no tears left to cry</td>\n",
       "      <td>Sweetener</td>\n",
       "      <td>2018-04-20</td>\n",
       "      <td>right now i'm in a state of mind i wanna be in...</td>\n",
       "      <td>2018.0</td>\n",
       "      <td>NaN</td>\n",
       "    </tr>\n",
       "  </tbody>\n",
       "</table>\n",
       "</div>"
      ],
      "text/plain": [
       "          Artist                   Title            Album        Date  \\\n",
       "0  Ariana Grande          ​thank u, next    thank u, next  2018-11-03   \n",
       "1  Ariana Grande                 7 rings    thank u, next  2019-01-18   \n",
       "2  Ariana Grande         ​God is a woman        Sweetener  2018-07-13   \n",
       "3  Ariana Grande            Side To Side  Dangerous Woman  2016-05-20   \n",
       "4  Ariana Grande  ​​no tears left to cry        Sweetener  2018-04-20   \n",
       "\n",
       "                                               Lyric    Year  Unnamed: 0  \n",
       "0  thought i'd end up with sean but he wasn't a m...  2018.0         NaN  \n",
       "1  yeah breakfast at tiffany's and bottles of bub...  2019.0         NaN  \n",
       "2  you you love it how i move you you love it how...  2018.0         NaN  \n",
       "3  ariana grande  nicki minaj i've been here all ...  2016.0         NaN  \n",
       "4  right now i'm in a state of mind i wanna be in...  2018.0         NaN  "
      ]
     },
     "execution_count": 75,
     "metadata": {},
     "output_type": "execute_result"
    }
   ],
   "source": [
    "df.head()"
   ]
  },
  {
   "cell_type": "code",
   "execution_count": 76,
   "metadata": {
    "id": "F5PAzFtjN3Uf"
   },
   "outputs": [
    {
     "data": {
      "text/plain": [
       "6027"
      ]
     },
     "execution_count": 76,
     "metadata": {},
     "output_type": "execute_result"
    }
   ],
   "source": [
    "len(df)"
   ]
  },
  {
   "cell_type": "markdown",
   "metadata": {
    "id": "5tVZfi609cmc"
   },
   "source": [
    "### 2. Data Cleaning (Look at value count of each lyric and remove unnecessary or empty lyrics after this process view length of the dataframe to see the change)"
   ]
  },
  {
   "cell_type": "code",
   "execution_count": 77,
   "metadata": {
    "id": "_cM7NINSNUSS"
   },
   "outputs": [
    {
     "data": {
      "text/plain": [
       "Artist        Title                          Album                               Date        Lyric                                                                                                                                                                                                                                                                                                                                                                                                                                                                                                                                                                                                                                                                                                                                                                                                                                                                                                                                                                                                                                                                                                                                                                                                                                                                                                                                                                                                                                                                                                                                                                                                                                                                                                                                                                                                                                                                                                                                                                                                                                                                                                                                                                                                                                                                                                                                                                                                                                                                                                                                                                                                                                                                                                                                                                                                                                                                                                                                                                                                                                                                                                                                                                                                                                                                                                                                                                                                                                                                                                                                                                                                                                                                                                                                                                                                                                                                                                                                                                                                                                                                                                                                                                                                                                                                                                                                                                                                                                                                                                                                                                                                                                                                                                                                                                                                                                                                                                                                                                                                                                                                                                                                                                                                                                                                                                                                                                                                                                                                                                                                                                                                                                                                                                                                                                                                                                                                                                                                                                                                                                                                                                                                                                                                                                                                                                                                                                                                                                                                                                                                                                                                                                                                                                                               Year    Unnamed: 0\n",
       "Taylor Swift  ​’tis the damn season          evermore                            2020-12-11  if i wanted to know who you were hanging with while i was gone i would've asked you it's the kind of cold fogs up windshield glass but i felt it when i passed you there's an ache in you put there by the ache in me but if it's all the same to you it's the same to me   so we could call it even you could call me babe for the weekend 'tis the damn season write this down i'm stayin' at my parents' house and the road not taken looks real good now and it always leads to you and my hometown   i parkеd my car right between the methodist and thе school that used to be ours the holidays linger like bad perfume you can run but only so far i escaped it too remember how you watched me leave but if it's okay with you it's okay with me   we could call it even you could call me babe for the weekend 'tis the damn season write this down i'm stayin' at my parents' house and the road not taken looks real good now time flies messy as the mud on your truck tires now i'm missing your smile hear me out we could just ride around and the road not taken looks real good now and it always leads to you and my hometown   sleep in half the day just for old times' sake i won't ask you to wait if you don't ask me to stay so i'll go back to la and the socalled friends who'll write books about me if i ever make it and wonder about the only soul who can tell which smiles i'm fakin' and the heart i know i'm breakin' is my own to leave the warmest bed i've ever known we could call it even even though i'm leaving and i'll be yours for the weekend 'tis the damn season   we could call it even you could call me babe for the weekend 'tis the damn season write this down i'm stayin' at my parents' house and the road not taken looks real good now time flies messy as the mud on your truck tires now i'm missing your smile hear me out we could just ride around and the road not taken looks real good now and it always leads to you and my hometown   it always leads to you and my hometown                                                                                                                                                                                                                                                                                                                                                                                                                                                                                                                                                                                                                                                                                                                                                                                                                                                                                                                                                                                                                                                                                                                                                                                                                                                                                                                                                                                                                                                                                                                                                                                                                                                                                                                                                                                                                                                                                                                                                                                                                                                                                                                                                                                                                                                                                                                                                                                                                                                                                                                                                                                                                                                                                                                                                                                                                                                                                                                                                                                                                                                                                                                                                                                                                                                                                                                                                                                                                                                                                                                                                                                                                                                                                                                                                                                                                                                                                                                                                                                                                                                                                                                                                                                                                                                                                                                                                                                                                                                                                                                                                                                                                                                                                    2020.0  51.0          1\n",
       "BTS (방탄소년단)   (Hidden Track) 길 (Road/Path)   2 Cool 4 Skool                      2013-06-12  rm yeah wassup you know time flows like stars check it check check check check it out   rm 시작은 eminem garion and epik high 따라 하는 걸 넘어 내 랩을 적고 새기다 보니까 벌써 어느새 내가 홍대 그때 내 가산 온통 다  꼰대 but we dunno we dunno we dunno the future 쉼 없이 꿈꾸던 중 날 묶어 버린 현실의 덫 오 그 청춘의 덫 뜨거운 가슴은 차가운 머리에 져버렸어 damn 그렇게 내 선택이 옳다며 맹신하던 그 와중에 천사인지 악마인지 모를 그것이 말을 해 랩 제대로 해볼 생각 없냐고 yes or no 망설일 시간은 없다고 더 바보는 되기 싫었던 난 이곳에 왔고 년이 지나갔어 some say art is long life is short but now for me art is life life is sports just do it uh   jungkook 난 달라졌을까 다른 길을 택했다면 멈춰서 뒤돌아봤다면 oh hey ya hey ya 난 뭘 보게 될까 이 길에 끝에서 니가 서있을 그곳에서 oh hey ya hey ya   suga suga  jungkook 수많은 시간이 흘르고 0년 연습생으로 있었지년을 내 모습은 고등학생에서 어느새 커버린 어린이가 됐어 욕심의 새치가 많아지고 그 많던 친구들은 하나둘씩 갈라지고 가족없이 난 외롭게도 서울에서 맞는 세 번째 봄 데뷔가 코앞이면 걱정없어질 줄 알았어 달라질게 없는 현재에 난 눈을 감았어 현실은 달랐고 주위에서 날 말려도 빛도 안 보이는 터널들을 나 홀로 걸었어 혼자인 줄 알았는데 알고 보니 일곱 맨발이 아닌 방탄이란 신을 신고 앞으로 나가야지 한발더 새롭게 더 서울에서 맞을 네 번째 봄 woah   jimin jin 난 달라졌을까 다른 길을 택했다면 멈춰서 뒤돌아봤다면 oh hey ya hey ya 난 뭘 보게 될까 이 길에 끝에서 니가 서있을 그곳에서 oh hey ya hey ya   jhope 00년의 해 내 걸음은 서울로 향하네 그저 춤이 좋아 시작했던 내가 이젠 무대 위에 서네 그사이에 많은 고통과 상처들을 이겨내고 날 갖춰 부러질 바엔 휘고 말자는 나의 관념을 살려가며 년을 달려 내 가슴 안에 있는 별들을 밝혀 이젠 날 새롭게 비춰봐 세상이란 백지에 방탄도 새겨봐 더 불 켜진 내 미랠 걸어가 웃음을 지어 먼 훗날 ha ha   v jungkook 난 달라졌을까 다른 길을 택했다면 멈춰서 뒤돌아봤다면 oh hey ya hey ya 난 뭘 보게 될까 이 길에 끝에서 니가 서있을 그곳에서 oh hey ya hey ya   rm rm  jungkook 난 달라졌을까 다른 길을 택했다면 멈춰서 뒤돌아봤다면 oh hey ya hey ya 난 뭘 보게 될까 이 길에 끝에서 니가 서있을 그곳에서 oh hey ya hey ya                                                                                                                                                                                                                                                                                                                                                                                                                                                                                                                                                                                                                                                                                                                                                                                                                                                                                                                                                                                                                                                                                                                                                                                                                                                                                                                                                                                                                                                                                                                                                                                                                                                                                                                                                                                                                                                                                                                                                                                                                                                                                                                                                                                                                                                                                                                                                                                                                                                                                                                                                                                                                                                                                                                                                                                                                                                                                                                                                                                                                                                                                                                                                                                                                                                                                                                                                                                                                                                                                                                                                                                                                                                                                                                                                                                                                                                                                                                                                                                                                                                                                                                                                                                                                                                                                                                                                                                                                                                                                                                                                                                                                                                                                                                                                                                                                                                                                                                                                                                                                                                                                                                                                                                                                                                        2013.0  105.0         1\n",
       "              00:00 (Zero O’Clock)           MAP OF THE SOUL: 7                  2020-02-21  방탄소년단  0000 zero o'clock 가사   jungkook 그런 날 있잖아 이유 없이 슬픈 날 몸은 무겁고 나 빼곤 모두 다 바쁘고 치열해 보이는 날 발걸음이 떨어지질 않아 벌써 늦은 것 같은데 말야 온 세상이 얄밉네   jimin yeah 곳곳에 덜컥거리는 과속방지턱 맘은 구겨지고 말은 자꾸 없어져 도대체 왜 나 열심히 뛰었는데 오 내게 왜  pre v jin 집에 와 침대에 누워 생각해봐 내 잘못이었을까 어지러운 밤 문득 시곌 봐 곧 시 뭔가 달라질까 그런 건 아닐 거야 그래도 이 하루가 끝나잖아 초침과 분침이 겹칠 때 세상은 아주 잠깐 숨을 참아 zero oclock   all oohooh and you gonna be happy oohooh and you gonna be happy 막 내려앉은 저 눈처럼 숨을 쉬자 처음처럼 oohooh and you gonna be happy oohooh and you gonna be happy turn this all around 모든 게 새로운 zero oclock   jimin v 조금씩 박자가 미끄러져 쉬운 표정이 안 지어져 익숙한 가사 자꾸 잊어 내 맘 같은 게 뭐 하나 없어 그래 다 지나간 일들이야 혼잣말해도 참 쉽지 않아 is it my fault is it my wrong 답이 없는 나의 메아리만  pre jin jimin 집에 와 침대에 누워 생각해봐 내 잘못이었을까 어지러운 밤 문득 시곌 봐 곧 시 뭔가 달라질까 그런 건 아닐 거야 그래도 이 하루가 끝나잖아 초침과 분침이 겹칠 때 세상은 아주 잠깐 숨을 참아 zero oclock   all oohooh and you gonna be happy oohooh and you gonna be happy 막 내려앉은 저 눈처럼 숨을 쉬자 처음처럼 oohooh and you gonna be happy oohooh and you gonna be happy turn this all around 모든 게 새로운 zero oclock   jimin v jungkook jin 두 손 모아 기도하네 내일은 좀 더 웃기를 for me 좀 낫기를 for me 이 노래가 끝이 나면 새 노래가 시작되리 좀 더 행복하기를 yeah   v jungkook jin jimin oohooh and you gonna be happy oohooh and you gonna be happy 아주 잠깐 숨을 참고 오늘도 나를 토닥여 oohooh and you gonna be happy oohooh and you gonna be happy turn this all around 모든 게 새로운 zero oclock                                                                                                                                                                                                                                                                                                                                                                                                                                                                                                                                                                                                                                                                                                                                                                                                                                                                                                                                                                                                                                                                                                                                                                                                                                                                                                                                                                                                                                                                                                                                                                                                                                                                                                                                                                                                                                                                                                                                                                                                                                                                                                                                                                                                                                                                                                                                                                                                                                                                                                                                                                                                                                                                                                                                                                                                                                                                                                                                                                                                                                                                                                                                                                                                                                                                                                                                                                                                                                                                                                                                                                                                                                                                                                                                                                                                                                                                                                                                                                                                                                                                                                                                                                                                                                                                                                                                                                                                                                                                                                                                                                                                                                                                                                                                                                                                                                                                                                                                                                                                                                                                                                                                                                                                                                                                                                                                                                                 2020.0  99.0          1\n",
       "              134340                         LOVE YOURSELF 轉 ‘Tear’              2018-05-18  방탄소년단의 440 가사   v jungkook 그럴 수만 있다면 물어보고 싶었어 그때 왜 그랬는지 왜 날 내쫓았는지 어떤 이름도 없이 여전히 널 맴도네 작별이 무색해 그 변함없는 색채   rm 나에겐 이름이 없구나 나도 너의 별이었는데 넌 빛이라서 좋겠다 난 그런 널 받을 뿐인데 무너진 왕성에 남은 명이 뭔 의미가 있어 죽을 때까지 받겠지 니 무더운 시선 아직 난 널 돌고 변한 건 없지만 사랑에 이름이 없다면 모든 게 변한 거야 넌 정말로 eris를 찾아낸 걸까 말해 내가 저 달보다 못한 게 뭐야 us는 u의 복수형일 뿐 어쩌면 거기 처음부터 난 없었던 거야 언젠가 너도 이 말을 이해하겠지 나의 계절은 언제나 너였어 내 차가운 심장은 영하 48도 니가 날 지운 그 날 멈췄어 damn  pre jimin jin 난 맴돌고만 있어 난 널 놓쳤어 난 널 잃었어 난 헛돌고만 있어 넌 날 지웠어 넌 날 잊었어   jungkook v 한때는 태양의 세계에 속했던 노랜 멈췄어 노랜 멎었어 별의 심장엔 텁텁한 안개층뿐 넌 날 지웠어 넌 날 잊었어   suga 어제와는 그리 다를 건 없네 ay 똑같은 일상 속에 딱 너만 없네 ay 분명 어제까지는 함께였는데 ay 무서울 정도로 똑같은 하루 속엔 딱 너만 없네 솔직히 말해 니가 없던 일년쯤 덤덤했지 흔히 말하는 미련도 없던 지난 날 이젠 깜빡 니 향기 따윈 기억도 안나 잠깐 근데 어디선가 맡아봤던 향순데 ay 기억이 어렴풋이 피어날 즘에 ay 저기 저기 고개를 돌려보니 환하게 웃으며 다가오는 니 옆엔 그 안녕 안녕 어떻게 지내 나는 뭐 잘 지내 왠지 터질듯한 내 심장과는 달리 이 순간 온도는 영하 48  pre jin jungkook 난 맴돌고만 있어 난 널 놓쳤어 난 널 잃었어 난 헛돌고만 있어 넌 날 지웠어 넌 날 잊었어   jungkook jimin 한때는 태양의 세계에 속했던 노랜 멈췄어 노랜 멎었어 별의 심장엔 텁텁한 안개층뿐 넌 날 지웠어 넌 날 잊었어   jin jhope 난 맴돌고만 있어 안개 너머의 여전히 미소 띤 널 지켜보지 의미도 너도 다 없는 불규칙 내 궤도의 현실 난 헛돌고만 있어 너에겐 기억하기 힘든 숫자와 어둠의 pluto 그래도 계속 난 너의 주위를 맴돌겠지 damn  pre v jungkook 난 맴돌고만 있어 난 널 놓쳤어 난 널 잃었어 난 헛돌고만 있어 넌 날 지웠어 넌 날 잊었어   jungkook jimin 한때는 태양의 세계에 속했던 노랜 멈췄어 노랜 멎었어 별의 심장엔 텁텁한 안개층뿐 넌 날 지웠어 넌 날 잊었어                                                                                                                                                                                                                                                                                                                                                                                                                                                                                                                                                                                                                                                                                                                                                                                                                                                                                                                                                                                                                                                                                                                                                                                                                                                                                                                                                                                                                                                                                                                                                                                                                                                                                                                                                                                                                                                                                                                                                                                                                                                                                                                                                                                                                                                                                                                                                                                                                                                                                                                                                                                                                                                                                                                                                                                                                                                                                                                                                                                                                                                                                                                                                                                                                                                                                                                                                                                                                                                                                                                                                                                                                                                                                                                                                                                                                                                                                                                                                                                                                                                                                                                                                                                                                                                                                                                                                                                                                                                                                                                                                                                                                                                                                                                                                                                                                                                                                                                                                                                                                                                                                                                                                                                                                                                                                                                                                                                                                                         2018.0  30.0          1\n",
       "              21세기 소녀 (21st Century Girl)    WINGS                               2016-10-10  방탄소년단의 세기 소녀  가사  you worth it you perfect deserve it just work it 넌 귀티나 귀티 또 pretty야 pretty 빛이나 빛이 넌 진리이자 이치  혹시 누가 너를 자꾸 욕해 욕해 tell 'em you're my lady 가서 전해 전해 딴 놈들이 뭐라건 이 세상이 뭐라건 넌 내게 최고 너 그대로  절대 쫄지 말아 누가 뭐래도 넌 괜찮아 alright 강해 너는 말야 you say yes or no yes or no  0세기 소녀들아 live your life live your life come on baby 세기 소녀들아 you don't mind you don't mind that new lady  말해 너는 강하다고 말해 넌 충분하다고 let you go let you go let you go let it go oh  all my ladies put your hands up 세기 소녀 hands up all my ladies put your hands up now scream  너 지나가네 남자들이 say oh yeah 쟤 뭐야 대체 누구야 넋이 나가네 여자들이 say 어 얘는 또 뭐야 대체 누구야  oh bae 절대 낮추지 마 okay 쟤들에 널 맞추진 마 you're mine 넌 충분히 아름다워 don't worry don't worry baby you're beautiful you you you  0세기 소녀들아 live your life live your life come on baby 세기 소녀들아 you don't mind you don't mind that new lady  말해 너는 강하다고 말해 넌 충분하다고 let you go let you go let you go let it go oh  all my ladies put your hands up 세기 소녀 hands up all my ladies put your hands up now scream  everybody wanna love you everybody gonna love you 다른 건 걱정하지 마  everybody wanna love you bae everybody gonna love you bae 넌 사랑 받아 마땅해  all my ladies put your hands up 세기 소녀 hands up all my ladies put your hands up now scream  all my ladies put your hands up 세기 소녀 hands up all my ladies put your hands up now scream                                                                                                                                                                                                                                                                                                                                                                                                                                                                                                                                                                                                                                                                                                                                                                                                                                                                                                                                                                                                                                                                                                                                                                                                                                                                                                                                                                                                                                                                                                                                                                                                                                                                                                                                                                                                                                                                                                                                                                                                                                                                                                                                                                                                                                                                                                                                                                                                                                                                                                                                                                                                                                                                                                                                                                                                                                                                                                                                                                                                                                                                                                                                                                                                                                                                                                                                                                                                                                                                                                                                                                                                                                                                                                                                                                                                                                                                                                                                                                                                                                                                                                                                                                                                                                                                                                                                                                                                                                                                                                                                                                                                                                                                                                                                                                                                                                                                                                                                                                                                                                                                                                                                                                                                                                                                                                                                                                                      2016.0  97.0          1\n",
       "                                                                                                                                                                                                                                                                                                                                                                                                                                                                                                                                                                                                                                                                                                                                                                                                                                                                                                                                                                                                                                                                                                                                                                                                                                                                                                                                                                                                                                                                                                                                                                                                                                                                                                                                                                                                                                                                                                                                                                                                                                                                                                                                                                                                                                                                                                                                                                                                                                                                                                                                                                                                                                                                                                                                                                                                                                                                                                                                                                                                                                                                                                                                                                                                                                                                                                                                                                                                                                                                                                                                                                                                                                                                                                                                                                                                                                                                                                                                                                                                                                                                                                                                                                                                                                                                                                                                                                                                                                                                                                                                                                                                                                                                                                                                                                                                                                                                                                                                                                                                                                                                                                                                                                                                                                                                                                                                                                                                                                                                                                                                                                                                                                                                                                                                                                                                                                                                                                                                                                                                                                                                                                                                                                                                                                                                                                                                                                                                                                                                                                                                                                                                                                                                                                                                                                                                                                                      ..\n",
       "              Am I Wrong                     WINGS                               2016-10-10  방탄소년단의 am i wrong 가사   keb' mo' am i wrong fallin' in love with you tell me am i wrong while your other man was out there cheatin' and lyin' steppin' all over you   rm jhope suga the world's goin' crazy 넌 어때 how bout ya you think it is okay 난 좀 아닌 것 같어 귀가 있어도 듣질 않어 눈이 있어도 보질 않어 다 마음에 물고기가 살어 걔 이름 selfish selfish 우린 다 개 돼지 화나서 개 되지 황새 vs 뱁새 전쟁이야 errday 미친 세상이 yeah 우릴 미치게 해 그래 우린 다 crazy 자 소리질러 mayday mayday  pre v jungkook 온 세상이 다 미친 것 같아 끝인 것 같아 oh why oh why oh why oh why oh why why why why oh my god   jungkook jimin keb' mo' am i wrong 내가 뭐 틀린 말했어 내가 뭐 거짓말했어 going crazy 미쳤어 미쳤어 crazy 미쳤어 미쳤어 am i wrong am i wrong 어디로 가는지 세상이 미쳐 돌아가네  hook rm are you ready for this are you ready for this are you ready for this no i'm not   jhope rm all 그램마 니가 미친겨 미친 세상에 안 미친 게 미친겨 온 천지 사방이 hell yeah 온라인 오프라인이 hell yeah  뉴스를 봐도 아무렇지 않다면 그 댓글이 아무렇지 않다면 그 증오가 아무렇지 않다면 넌 정상 아닌 게 비정상  pre jin jungkook 온 세상이 다 미친 것 같아 끝인 것 같아 oh why oh why oh why oh why oh why why why why oh my god   jungkook jimin keb' mo' am i wrong 내가 뭐 틀린 말했어 내가 뭐 거짓말했어 going crazy 미쳤어 미쳤어 crazy 미쳤어 미쳤어 am i wrong am i wrong 어디로 가는지 세상이 미쳐 돌아가네   jungkook jimin 미친 세상 길을 잃어도 아직은 더 살고 싶어 찾고 싶어 나의 믿음을   jungkook jimin keb' mo' am i wrong 내가 뭐 틀린 말했어 내가 뭐 거짓말했어 going crazy 미쳤어 미쳤어 crazy 미쳤어 미쳤어 am i wrong am i wrong 어디로 가는지 세상이 미쳐 돌아가네  hook rm are you ready for this are you ready for this are you ready for this                                                                                                                                                                                                                                                                                                                                                                                                                                                                                                                                                                                                                                                                                                                                                                                                                                                                                                                                                                                                                                                                                                                                                                                                                                                                                                                                                                                                                                                                                                                                                                                                                                                                                                                                                                                                                                                                                                                                                                                                                                                                                                                                                                                                                                                                                                                                                                                                                                                                                                                                                                                                                                                                                                                                                                                                                                                                                                                                                                                                                                                                                                                                                                                                                                                                                                                                                                                                                                                                                                                                                                                                                                                                                                                                                                                                                                                                                                                                                                                                                                                                                                                                                                                                                                                                                                                                                                                                                                                                                                                                                                                                                                                                                                                                                                                                                                                                                                                                                                                                                                                                                                                                                                                                                                                                                                 2016.0  116.0         1\n",
       "              Airplane pt.2 - Japanese ver.  MAP OF THE SOUL: 7 ~ The Journey ~  2018-11-07  防彈少年團 airplane pt 歌詞   jungkook 小さな子で ずっと歌っていた どこでもいい 音楽がしたくて 歌い  音で 心動かした thing 迷わずに 来てみたけど   jimin v 簡単じゃない 失敗ばかり 疲れ切った日 聞こえた言葉は you're a singing star you're a singing star but i see no star そして時は経ち  pre jin rm we still sky high sky fly sky dope we still same try same scar same work we still 世界中で稼働 we still ホテル内も作業 i still 時によくなって  たまにダメになって i still 今日は誰になってる キムナムジュン  or rm 5 だし生き方なんて上手くない だからひたすらにただ go   jimin jungkook 飛んで ny や caii london に paris 俺らが行けばどこだってparty el mariachi el mariachi el mariachi  飛んで tokyo や italy hong kong に brazil 世界中どこにでも歌いに行く el mariachi el mariachi el mariachi el mariachi   jhope 雲の上 check it  雲の上 check it 雲の上で feel  雲の上 check it 雲との chemi  雲とずっと接し 雲乗り playin 雲の中 fade in you don't know it maybe  何年もこの状況で マイレージも上昇して 今君らへ気持ちを還元する このポイント使い贈呈 love airplane mode 周りは off 指図はいらないもう このままフアースト  キープし この席から眺める夜空を   jimin suga i don't know i don't know i don't know i don't know 止める方法も i don't know i don't know i don't know i don't know 休む方法も i don't know i don't know i don't know i don't know 間違う方法も i don't know i don't know i don't know i don't know テレビでやる可愛らしい  テレビでやる可愛らしい 自慢はもう fed up 旅券は疲労で限界 メディアからの恩恵は そっらの方でbombハハハ ya ya セレプ遊びならやってな 僕たちは 何も変わってない woo   v jin 飛んで mexico city london に paris 俺らが行けばどこだってparty  el mariachi el mariachi el mariachi  飛んで tokyo や italy hong kong に brazil 世界中どこにでも歌いに行く el mariachi el mariachi el mariachi el mariachi                                                                                                                                                                                                                                                                                                                                                                                                                                                                                                                                                                                                                                                                                                                                                                                                                                                                                                                                                                                                                                                                                                                                                                                                                                                                                                                                                                                                                                                                                                                                                                                                                                                                                                                                                                                                                                                                                                                                                                                                                                                                                                                                                                                                                                                                                                                                                                                                                                                                                                                                                                                                                                                                                                                                                                                                                                                                                                                                                                                                                                                                                                                                                                                                                                                                                                                                                                                                                                                                                                                                                                                                                                                                                                                                                                                                                                                                                                                                                                                                                                                                                                                                                                                                                                                                                                                                                                                                                                                                                                                                                                                                                                                                                                                                                                                                                                                                                                                                                                                                                                                                                                                                                                                                                                                                                            2018.0  190.0         1\n",
       "              Airplane pt.2                  LOVE YOURSELF 轉 ‘Tear’              2018-05-18  방탄소년단의 airplane pt  가사   jungkook 이상한 꼬마 숨쉬듯 노래했네 어디든 좋아 음악이 하고 싶었네 오직 노래 심장을 뛰게 하던 thing 하나뿐이던 길을 걸었지만   jimin v 쉽지 않아 실패와 절망 지친 날 누군가 불러 세워 건넨 말 youre a singing star youre a singing star but i see no star 몇 년이 흘러가버린 뒤  pre jin rm we still sky high sky fly sky dope we still same try same scar same work we still 세상 어딜 가도 we still 호텔방서 작업 i still 하루는 너무 잘 돼 그 다음날은 망해 i still 오늘은 뭐로 살지 김남준 아님 rm 스물다섯 잘 사는 법은 아직도 보르겠어 그러니 오늘도 우리는 그냥 go   jimin jungkook we goin from ny to cali london to paris 우리가 가는 그 곳이 어디든 party el mariachi el mariachi el mariachi  we goin from tokyo italy hong kong to brazil 이 세계 어디서라도 난 노래하리 el mariachi el mariachi el mariachi el mariachi   jhope 구름 위를 매일 구름 위를 매일 구름 위에 내 feel 구름 위에 check it 구름과의 케미 구름과 하루 종일 구름 타는 재미 구름 보며 fade in 너흰 몰라 maybe 몇 년 동안의 비행 탓에 마일리지만 몇 심만 대 못 이룬 너희들을 위로해줄 때야 그 비행 포인트로 선물 할게 love 에어플레인 모드 신경은 다 off 그 누구든지 뭐라던 그저 계속 퍼스트를 지키며 밤 하늘을 볼게 지금 내 자리에 맞춰   jimin suga i dont know i dont know i dont know i dont know 그래 멈추는 법도 i dont know i dont know i dont know i dont know 그래 좀 쉬는 법도 i dont know i dont know i dont know i dont know 실패하는 법도 i dont know i dont know i dont know i dont know tv 나와서 귀여운 돈 자랑들은 fed up 여권은 과로사 직전 미디어의 혜택은 되려 너네가 받았지 깔깔깔깔 야 야 셀럽놀이는 너네가 더 잘해 우린 여전히 그때와 똑같어 woo   v jin we goin from mexico city london to paris 우리가 가는 그 곳이 어디든 party el mariachi el mariachi el mariachi  we goin from tokyo italy hong kong to brazil 이 세계 어디서라도 난 노래하리 el mariachi el mariachi el mariachi el mariachi el mari hoo                                                                                                                                                                                                                                                                                                                                                                                                                                                                                                                                                                                                                                                                                                                                                                                                                                                                                                                                                                                                                                                                                                                                                                                                                                                                                                                                                                                                                                                                                                                                                                                                                                                                                                                                                                                                                                                                                                                                                                                                                                                                                                                                                                                                                                                                                                                                                                                                                                                                                                                                                                                                                                                                                                                                                                                                                                                                                                                                                                                                                                                                                                                                                                                                                                                                                                                                                                                                                                                                                                                                                                                                                                                                                                                                                                                                                                                                                                                                                                                                                                                                                                                                                                                                                                                                                                                                                                                                                                                                                                                                                                                                                                                                                                                                                                                                                                                                                                                                                                                                                                                                                                                                                                                                          2018.0  9.0           1\n",
       "              Adult Child (어른아이)             SoundCloud Releases                 2013-03-13  english translation  rap monster ah im 0 now now that im actually 0 its nothing special so what am i supposed to do now   jin im 0 now and its a good day ive become a free body but what is this theres nothing to it ive only become an adult ive only become an adult ive only become an adult ive only become an average adult the average adult is what ive become an adult   rap monster some have gone to whichever college some have gone off to military service some are repeating a grade and some are looking for work the tender touch of our families that sweet romance has come at its end haste and clumsiness are all whats left the weight of being 0 i thought would be like a feather now its a boulder that pins me down the regret at age 0 oh no all the peter pans whove freshly jumped out of fairytale books it mustve never existed from the start this neverland they dream about a little sense of liberation a little sense of regret for an unfulfilled wish or goal a little sense of hostility towards this world thats strange to me because im now an adult i want to keep a straight face and play it cool youth and naivete theyre both in vain really eyahwould you look at my lyrics ive matured a friend whos been hired is lifting files tn seoryucheol instead of being in season tn 'cheol literal translation of colloquial phrase for 'growing up i was once a young adult but now im an adult child moms not around to take care of me im skipping meals   jin im 0 now and its a good day ive become a free body but what is this theres nothing to it ive only become an adult ive only become an adult ive only become an adult ive only become an average adult the average adult is what ive become an adult   suga what every men in their 0s experience is a deep sense of remorse fearing military draft notes the things that once felt so far away become reality they said north and south korea would be unified by the time youve grown up thats what mom said and i had completely believed her but the reality is that im an ablebodied firstrate soldier material this friend whos perfectly healthy is a fourthrate so why am i firstrate how could i be so uselessly healthy civil duties its a juvenile death sentence i envy and envy the nations lowest 0 it blows away this flowery adolescence im evading military service the roaring 0s time when everything is luscious they try to set fire to flowerblossomed youth the moment i graduated after the hellish exams i attend another school its name is society applause for courage to malesin their 0s who were forced to break from society and a handshake of gratitude to the nations 60000 officers and men of the armed forces   turned 0 and started attending a school its name is life but there were no teachers there some will repeat a grade and some will be drafted but do not forget this time of blissful ignorance adulthood its nothing really adulthood its nothing really its nothing like how it seems really really its nothing like how it seems hangul  rap monster 아 이제 스무살인데 막상 돼 보니까 별것도 없고 저 이제 어떻게 해야 돼요   진 스무살이고 좋은 날이고 자유의 몸이 된 거야 근데 이게 뭐니 아무것도 아니잖아 어른이 된 거야 그냥 어른이 된 거야 그냥 어른이 된 너야 평범한 어른이 된 거야 평범한 어른이 된 나야 어른이   rap monster 누군 무슨 대를 가고 누군 군대를 가고 누군 재수를 하고 누군 일자리를 찾네 가족들의 어루만짐 그 달콤한 로맨스는 끝 남은 건 그저 서두름과 서투름뿐 깃털같을 줄로만 알았던 스무살의 무게 이젠 바위가 되어 짓눌러 스무살의 후회 oh no 이제 막 동화책을 뛰쳐나온 피터팬들 처음부터 없었나봐 네버랜드는 약간의 해방감 약간의 안타까움 낯선 세상에 드는 약간의 반감 이미 성인이니 난 시치미떼고 싶지 젊음이니 청춘이니 다 부질이 없어 really 이야 내 가사 봐봐 철들었어 취직한 친구는 철 대신 서류철 들었어 난 애어른이었지만 이제는 어른아이 챙겨주는 엄마도 없어 끼니를 거른다   진 스무살이고 좋은 날이고 자유의 몸이 된 거야 근데 이게 뭐니 아무것도 아니잖아 어른이 된 거야 그냥 어른이 된 거야 그냥 어른이 된 너야 평범한 어른이 된 거야 평범한 어른이 된 나야 어른이   suga 0대 남성은 필히 받게 되는 것 중 심히 두려운 군입대 영장 멀게 느꼈었던 일이 현실이 돼 어릴 적에 크면 통일될 거래 라던 엄마 말만 철썩같이 믿고 믿었네 but 현실은 건실한 급에 현역 대상자 건강이 멀쩡한 친구도 4급인데요 난 왜 쓸데없이 건강하기만 한 거야 국방의 의무 그건 청춘 사망선고야 국가가 인정한 하위 0프로를 시기해 시기 꽃다울 시기 날리니 군대를 기피해 기피 0대 뭘 해도 화려할 때 꽃이 핀 청춘을 불태우려 하네 지겨운 입시를 마치고 졸업한 순간 사회란 학교에 입학 후 강제 휴학 당하게 된 0대 남성에게 용기의 박수를 60만 국군 장병에겐 감사의 악수를   스무살이 되고 세상이라는 학교 에 입학했지만 거긴 선생님도 없더라고 누군 재수에 누군 군댈 가겠지만 마냥 순수했던 이 때를 잊지 마 어른 그거 별 거 아니니까 어른 그거 별 거 아니니까 그거 별 거 아니니까 진짜 별 거 아니니까 romanized  rap monster a ije seumusarinde maksang dwae bonikka byeolgeosdo eopsgo jeo ije eotteohge haeya dwaeyo   jin seumusarigo joheun narigo jayuui momi doen geoya geunde ige mwoni amugeosdo anijanha eoreuni doen geoya geunyang eoreuni doen geoya geunyang eoreuni doen neoya pyeongbeomhan eoreuni doen geoya pyeongbeomhan eoreuni doen naya eoreuni   rap monster nugun museun daereul gago nugun gundaereul gago nugun jaesureul hago nugun iljarireul chajne gajokdeurui eorumanjim geu dalkomhan romaenseuneun kkeut nameun geon geujeo seodureumgwa seotureumppun gisteolgateul julloman arassdeon seumusarui muge ijen bawiga doeeo jisnulleo seumusarui huhoe oh no ije mak donghwachaegeul ttwichyeonaon piteopaendeul cheoeumbuteo eopseossnabwa nebeoraendeuneun yakganui haebanggam yakganui antakkaum naccseon sesange deuneun yakganui bangam imi seonginini nan sichimittego sipji jeolmeumini cheongchunini da bujiri eopseo really iya nae gasa bwabwa cheoldeureosseo chwijikhan chinguneun cheol daesin seoryucheol deureosseo nan aeeoreunieossjiman ijeneun eoreunai chaenggyeojuneun eommado eopseo kkinireul georeunda   jin seumusarigo joheun narigo jayuui momi doen geoya geunde ige mwoni amugeosdo anijanha eoreuni doen geoya geunyang eoreuni doen geoya geunyang eoreuni doen neoya pyeongbeomhan eoreuni doen geoya pyeongbeomhan eoreuni doen naya eoreuni   suga 0dae namseongeun pilhi batge doeneun geot jung simhi duryeoun gunipdae yeongjang meolge neukkyeosseossdeon iri hyeonsiri dwae eoril jeoge keumyeon tongildoel georae radeon eomma malman cheolsseokgati mitgo mideossne but hyeonsireun geonsilhan geube hyeonyeok daesangja geongangi meoljjeonghan chingudo 4geubindeyo nan wae sseuldeeopsi geonganghagiman han geoya gukbangui uimu geugeon cheongchun samangseongoya gukgaga injeonghan hawi 0peuroreul sigihae sigi kkoccdaul sigi nallini gundaereul gipihae gipi 0dae mwol haedo hwaryeohal ttae kkocci pin cheongchuneul bultaeuryeo hane jigyeoun ipsireul machigo joreophan sungan sahoeran hakgyoe iphak hu gangje hyuhak danghage doen 0dae namseongege yonggiui baksureul 60man gukgun jangbyeongegen gamsaui aksureul   seumusari doego sesangiraneun hakgyo e iphakhaessjiman geogin seonsaengnimdo eopsdeorago nugun jaesue nugun gundael gagessjiman manyang sunsuhaessdeon i ttaereul ijji ma eoreun geugeo byeol geo aninikka eoreun geugeo byeol geo aninikka geugeo byeol geo aninikka jinjja byeol geo aninikka  2013.0  146.0         1\n",
       "              AWAKE                          WINGS                               2016-10-10  방탄소년단의 awake 가사   믿는 게 아냐 버텨보는 거야 할 수 있는 게 다 이것뿐이라서   머물고 싶어 더 꿈꾸고 싶어 그래도 말야 떠날 때가 됐는걸   yeah it's my truth it's my truth 온통 상처투성이겠지  pre but it's my fate it's my fate 그래도 발버둥치고 싶어   maybe i i can never fly 저기 저 꽃잎들처럼 날갤 단 것처럼은 안 돼 maybe i i can't touch the sky 그래도 손 뻗고 싶어 달려보고 싶어 조금 더  4 이 어둠 속을 그냥 걷고 또 걷고 있어 행복했던 시간들이 내게 물었어 너 넌 정말 괜찮은 거냐고 oh no  5 난 대답했어 아니 나는 너무 무서워 그래도 여섯 송이 꽃을 손에 꼭 쥐고 나 난 걷고 있을 뿐이라고 oh no  pre but it's my fate it's my fate 그래도 발버둥치고 싶어   maybe i i can never fly 저기 저 꽃잎들처럼 날갤 단 것처럼은 안 돼 maybe i i can't touch the sky 그래도 손 뻗고 싶어 달려보고 싶어 조금 더   wide awake wide awake wide awake don't cry wide awake wide awake wide awake no lie wide awake wide awake wide awake don't cry wide awake wide awake wide awake no lie   maybe i i can never fly 저기 저 꽃잎들처럼 날갤 단 것처럼은 안 돼 maybe i i can't touch the sky 그래도 손 뻗고 싶어 달려보고 싶어 조금 더                                                                                                                                                                                                                                                                                                                                                                                                                                                                                                                                                                                                                                                                                                                                                                                                                                                                                                                                                                                                                                                                                                                                                                                                                                                                                                                                                                                                                                                                                                                                                                                                                                                                                                                                                                                                                                                                                                                                                                                                                                                                                                                                                                                                                                                                                                                                                                                                                                                                                                                                                                                                                                                                                                                                                                                                                                                                                                                                                                                                                                                                                                                                                                                                                                                                                                                                                                                                                                                                                                                                                                                                                                                                                                                                                                                                                                                                                                                                                                                                                                                                                                                                                                                                                                                                                                                                                                                                                                                                                                                                                                                                                                                                                                                                                                                                                                                                                                                                                                                                                                                                                                                                                                                                                                                                                                                                                                                                                                                                                                                                                                                                                                                                                                                                                                                                                                                          2016.0  52.0          1\n",
       "Name: count, Length: 3207, dtype: int64"
      ]
     },
     "execution_count": 77,
     "metadata": {},
     "output_type": "execute_result"
    }
   ],
   "source": [
    "#### WRITE YOUR CODE HERE\n",
    "df = df.dropna()\n",
    "df.value_counts()"
   ]
  },
  {
   "cell_type": "code",
   "execution_count": 78,
   "metadata": {},
   "outputs": [
    {
     "data": {
      "text/plain": [
       "3207"
      ]
     },
     "execution_count": 78,
     "metadata": {},
     "output_type": "execute_result"
    }
   ],
   "source": [
    "len(df)"
   ]
  },
  {
   "cell_type": "markdown",
   "metadata": {
    "id": "nbXB8udM93Yz"
   },
   "source": [
    "### 3. Exploratory Data Analysis (EDA) - Artist Histogram (Create a histogram for the number of lyrics of each artist using matplotlib)"
   ]
  },
  {
   "cell_type": "code",
   "execution_count": 79,
   "metadata": {
    "id": "C3uiGf1mOBY6"
   },
   "outputs": [
    {
     "data": {
      "text/plain": [
       "<Axes: xlabel='Artist'>"
      ]
     },
     "execution_count": 79,
     "metadata": {},
     "output_type": "execute_result"
    },
    {
     "name": "stderr",
     "output_type": "stream",
     "text": [
      "C:\\Users\\kanat\\AppData\\Local\\Packages\\PythonSoftwareFoundation.Python.3.12_qbz5n2kfra8p0\\LocalCache\\local-packages\\Python312\\site-packages\\IPython\\core\\events.py:82: UserWarning: Glyph 48169 (\\N{HANGUL SYLLABLE BANG}) missing from font(s) DejaVu Sans.\n",
      "  func(*args, **kwargs)\n",
      "C:\\Users\\kanat\\AppData\\Local\\Packages\\PythonSoftwareFoundation.Python.3.12_qbz5n2kfra8p0\\LocalCache\\local-packages\\Python312\\site-packages\\IPython\\core\\events.py:82: UserWarning: Glyph 53444 (\\N{HANGUL SYLLABLE TAN}) missing from font(s) DejaVu Sans.\n",
      "  func(*args, **kwargs)\n",
      "C:\\Users\\kanat\\AppData\\Local\\Packages\\PythonSoftwareFoundation.Python.3.12_qbz5n2kfra8p0\\LocalCache\\local-packages\\Python312\\site-packages\\IPython\\core\\events.py:82: UserWarning: Glyph 49548 (\\N{HANGUL SYLLABLE SO}) missing from font(s) DejaVu Sans.\n",
      "  func(*args, **kwargs)\n",
      "C:\\Users\\kanat\\AppData\\Local\\Packages\\PythonSoftwareFoundation.Python.3.12_qbz5n2kfra8p0\\LocalCache\\local-packages\\Python312\\site-packages\\IPython\\core\\events.py:82: UserWarning: Glyph 45380 (\\N{HANGUL SYLLABLE NYEON}) missing from font(s) DejaVu Sans.\n",
      "  func(*args, **kwargs)\n",
      "C:\\Users\\kanat\\AppData\\Local\\Packages\\PythonSoftwareFoundation.Python.3.12_qbz5n2kfra8p0\\LocalCache\\local-packages\\Python312\\site-packages\\IPython\\core\\events.py:82: UserWarning: Glyph 45800 (\\N{HANGUL SYLLABLE DAN}) missing from font(s) DejaVu Sans.\n",
      "  func(*args, **kwargs)\n",
      "C:\\Users\\kanat\\AppData\\Local\\Packages\\PythonSoftwareFoundation.Python.3.12_qbz5n2kfra8p0\\LocalCache\\local-packages\\Python312\\site-packages\\IPython\\core\\pylabtools.py:170: UserWarning: Glyph 48169 (\\N{HANGUL SYLLABLE BANG}) missing from font(s) DejaVu Sans.\n",
      "  fig.canvas.print_figure(bytes_io, **kw)\n",
      "C:\\Users\\kanat\\AppData\\Local\\Packages\\PythonSoftwareFoundation.Python.3.12_qbz5n2kfra8p0\\LocalCache\\local-packages\\Python312\\site-packages\\IPython\\core\\pylabtools.py:170: UserWarning: Glyph 53444 (\\N{HANGUL SYLLABLE TAN}) missing from font(s) DejaVu Sans.\n",
      "  fig.canvas.print_figure(bytes_io, **kw)\n",
      "C:\\Users\\kanat\\AppData\\Local\\Packages\\PythonSoftwareFoundation.Python.3.12_qbz5n2kfra8p0\\LocalCache\\local-packages\\Python312\\site-packages\\IPython\\core\\pylabtools.py:170: UserWarning: Glyph 49548 (\\N{HANGUL SYLLABLE SO}) missing from font(s) DejaVu Sans.\n",
      "  fig.canvas.print_figure(bytes_io, **kw)\n",
      "C:\\Users\\kanat\\AppData\\Local\\Packages\\PythonSoftwareFoundation.Python.3.12_qbz5n2kfra8p0\\LocalCache\\local-packages\\Python312\\site-packages\\IPython\\core\\pylabtools.py:170: UserWarning: Glyph 45380 (\\N{HANGUL SYLLABLE NYEON}) missing from font(s) DejaVu Sans.\n",
      "  fig.canvas.print_figure(bytes_io, **kw)\n",
      "C:\\Users\\kanat\\AppData\\Local\\Packages\\PythonSoftwareFoundation.Python.3.12_qbz5n2kfra8p0\\LocalCache\\local-packages\\Python312\\site-packages\\IPython\\core\\pylabtools.py:170: UserWarning: Glyph 45800 (\\N{HANGUL SYLLABLE DAN}) missing from font(s) DejaVu Sans.\n",
      "  fig.canvas.print_figure(bytes_io, **kw)\n"
     ]
    },
    {
     "data": {
      "image/png": "[encoded data removed]",
      "text/plain": [
       "<Figure size 640x480 with 1 Axes>"
      ]
     },
     "metadata": {},
     "output_type": "display_data"
    }
   ],
   "source": [
    "#### WRITE YOUR CODE HERE\n",
    "\n",
    "from matplotlib import pyplot as plt\n",
    "\n",
    "df[\"Artist\"].value_counts().plot(kind=\"bar\")"
   ]
  },
  {
   "cell_type": "markdown",
   "metadata": {
    "id": "DQcHbJPF-WgM"
   },
   "source": [
    "### 4. Preprocessing Function (Create a preprocess function for the lyrics)"
   ]
  },
  {
   "cell_type": "code",
   "execution_count": 80,
   "metadata": {},
   "outputs": [
    {
     "data": {
      "text/plain": [
       "308     beyoncé i've been drinkin' i've been drinkin' ...\n",
       "309     messy mya what happened at the new wil'ins bit...\n",
       "310     part  yoncé   let me hear you say hey ms carte...\n",
       "311     beyoncé i've been watching for the signs took ...\n",
       "312     hold up they don't love you like i love you sl...\n",
       "                              ...                        \n",
       "6018    drew looks at me i  fake a smile so he won't s...\n",
       "6019    state the obvious i didn't get my perfect fant...\n",
       "6020    i'm curled up in my mother's bed staring inten...\n",
       "6021    it's strange to think the songs we used to sin...\n",
       "6022    drew looks at me i fake a smile so he won't se...\n",
       "Name: Lyric, Length: 3207, dtype: object"
      ]
     },
     "execution_count": 80,
     "metadata": {},
     "output_type": "execute_result"
    }
   ],
   "source": [
    "df[\"Lyric\"]"
   ]
  },
  {
   "cell_type": "code",
   "execution_count": 81,
   "metadata": {
    "id": "poc3S0kkOQA9"
   },
   "outputs": [
    {
     "name": "stderr",
     "output_type": "stream",
     "text": [
      "[nltk_data] Downloading package stopwords to\n",
      "[nltk_data]     C:\\Users\\kanat\\AppData\\Roaming\\nltk_data...\n",
      "[nltk_data]   Package stopwords is already up-to-date!\n"
     ]
    }
   ],
   "source": [
    "###Add your libraries here\n",
    "import re\n",
    "import nltk\n",
    "nltk.download('stopwords')\n",
    "\n",
    "def preprocess_data(data):\n",
    "    # Remove non-alphabetic characters and split the words\n",
    "    data['Lyric'] = data['Lyric'].apply(lambda x: re.sub('[^A-Za-z]', ' ', x).split())\n",
    "    # Remove stopwords\n",
    "    stop_words = set(stopwords.words('english'))\n",
    "    data['Lyric'] = data['Lyric'].apply(lambda x: [word for word in x if word not in stop_words])\n",
    "    return data\n",
    "\n",
    "# Apply the preprocessing function to the DataFrame\n",
    "df = preprocess_data(df)"
   ]
  },
  {
   "cell_type": "code",
   "execution_count": 82,
   "metadata": {},
   "outputs": [
    {
     "data": {
      "text/plain": [
       "308     [beyonc, drinkin, drinkin, get, filthy, liquor...\n",
       "309     [messy, mya, happened, new, wil, ins, bitch, b...\n",
       "310     [part, yonc, let, hear, say, hey, ms, carter, ...\n",
       "311     [beyonc, watching, signs, took, trip, clear, m...\n",
       "312     [hold, love, like, love, slow, love, like, lov...\n",
       "                              ...                        \n",
       "6018    [drew, looks, fake, smile, see, want, needing,...\n",
       "6019    [state, obvious, get, perfect, fantasy, realiz...\n",
       "6020    [curled, mother, bed, staring, intently, lapto...\n",
       "6021    [strange, think, songs, used, sing, smiles, fl...\n",
       "6022    [drew, looks, fake, smile, see, want, needing,...\n",
       "Name: Lyric, Length: 3207, dtype: object"
      ]
     },
     "execution_count": 82,
     "metadata": {},
     "output_type": "execute_result"
    }
   ],
   "source": [
    "df[\"Lyric\"]"
   ]
  },
  {
   "cell_type": "markdown",
   "metadata": {
    "id": "TIPmQEVu-mQC"
   },
   "source": [
    "#### Train Dev Test split\n",
    "Separate the song lyrics (documents) with respective artist names (labels). Split the dataset into train/dev/test datasets with 0.70/0.15/0.15 proportions."
   ]
  },
  {
   "cell_type": "code",
   "execution_count": 83,
   "metadata": {
    "id": "vNtTPzetQqn5"
   },
   "outputs": [],
   "source": [
    "#### WRITE YOUR CODE HERE\n",
    "from sklearn.model_selection import train_test_split\n",
    "\n",
    "X_train, X_test = train_test_split(df, test_size=0.3, random_state=42, stratify=df[\"Artist\"])\n",
    "X_test, X_dev = train_test_split(X_test, test_size=0.5, random_state=42, stratify=X_test[\"Artist\"])"
   ]
  },
  {
   "cell_type": "markdown",
   "metadata": {
    "id": "9b3JIziaI4pS"
   },
   "source": [
    "### 5. Implement a Naive Bayes classifier with Bag-of-Words features **from** scratch. You are not allowed to use external libraries for training a NB classifier."
   ]
  },
  {
   "cell_type": "code",
   "execution_count": null,
   "metadata": {
    "id": "Lx-s5a6HJVJn"
   },
   "outputs": [
    {
     "ename": "AttributeError",
     "evalue": "'csr_matrix' object has no attribute 'head'",
     "output_type": "error",
     "traceback": [
      "\u001b[1;31m---------------------------------------------------------------------------\u001b[0m",
      "\u001b[1;31mAttributeError\u001b[0m                            Traceback (most recent call last)",
      "Cell \u001b[1;32mIn[85], line 10\u001b[0m\n\u001b[0;32m      7\u001b[0m X_train_vectorized \u001b[38;5;241m=\u001b[39m vectorizer\u001b[38;5;241m.\u001b[39mtransform(X_train[\u001b[38;5;124m\"\u001b[39m\u001b[38;5;124mLyric\u001b[39m\u001b[38;5;124m\"\u001b[39m]\u001b[38;5;241m.\u001b[39mapply(\u001b[38;5;28;01mlambda\u001b[39;00m x: \u001b[38;5;124m'\u001b[39m\u001b[38;5;124m \u001b[39m\u001b[38;5;124m'\u001b[39m\u001b[38;5;241m.\u001b[39mjoin(x)))\n\u001b[0;32m      8\u001b[0m X_dev_vectorized \u001b[38;5;241m=\u001b[39m vectorizer\u001b[38;5;241m.\u001b[39mtransform(X_dev[\u001b[38;5;124m\"\u001b[39m\u001b[38;5;124mLyric\u001b[39m\u001b[38;5;124m\"\u001b[39m]\u001b[38;5;241m.\u001b[39mapply(\u001b[38;5;28;01mlambda\u001b[39;00m x: \u001b[38;5;124m'\u001b[39m\u001b[38;5;124m \u001b[39m\u001b[38;5;124m'\u001b[39m\u001b[38;5;241m.\u001b[39mjoin(x)))\n\u001b[1;32m---> 10\u001b[0m \u001b[43mX_train_vectorized\u001b[49m\u001b[38;5;241;43m.\u001b[39;49m\u001b[43mhead\u001b[49m()\n",
      "\u001b[1;31mAttributeError\u001b[0m: 'csr_matrix' object has no attribute 'head'"
     ]
    }
   ],
   "source": [
    "#### WRITE YOUR NAIVE BAYES CODE HERE\n",
    "from sklearn.feature_extraction.text import CountVectorizer\n",
    "\n",
    "vectorizer = CountVectorizer()\n",
    "vectorizer.fit(X_train[\"Lyric\"].apply(lambda x: ' '.join(x)))\n",
    "\n",
    "X_train_vectorized = vectorizer.transform(X_train[\"Lyric\"].apply(lambda x: ' '.join(x)))\n",
    "X_dev_vectorized = vectorizer.transform(X_dev[\"Lyric\"].apply(lambda x: ' '.join(x)))"
   ]
  },
  {
   "cell_type": "code",
   "execution_count": 90,
   "metadata": {},
   "outputs": [],
   "source": [
    "# argmax of the multiplication that features given label multiplied by the probability of the label occuring\n",
    "import numpy as np\n",
    "from collections import defaultdict, Counter\n",
    "\n",
    "class NaiveBayesClassifier:\n",
    "    def __init__(self):\n",
    "        self.class_priors = {}\n",
    "        self.word_likelihoods = defaultdict(Counter)\n",
    "        self.vocabulary = set()\n",
    "        self.class_counts = Counter()\n",
    "    \n",
    "    def fit(self, X, y):\n",
    "        # Count documents in each class and total number of words in each class\n",
    "        for doc, label in zip(X, y):\n",
    "            self.class_counts[label] += 1\n",
    "            for word in doc:\n",
    "                self.word_likelihoods[label][word] += 1\n",
    "                self.vocabulary.add(word)\n",
    "        \n",
    "        # Calculate priors for each class\n",
    "        total_docs = len(y)\n",
    "        self.class_priors = {label: count / total_docs for label, count in self.class_counts.items()}\n",
    "        \n",
    "        # Calculate likelihoods with Laplace smoothing\n",
    "        self.word_likelihoods = {\n",
    "            label: {word: (count + 1) / (sum(word_counts.values()) + len(self.vocabulary))\n",
    "                    for word, count in word_counts.items()}\n",
    "            for label, word_counts in self.word_likelihoods.items()\n",
    "        }\n",
    "        \n",
    "    def predict(self, X):\n",
    "        predictions = []\n",
    "        for doc in X:\n",
    "            # Compute the log-probability for each class\n",
    "            class_probs = {}\n",
    "            for label in self.class_priors:\n",
    "                # Start with the log prior\n",
    "                log_prob = np.log(self.class_priors[label])\n",
    "                \n",
    "                # Add the log likelihood of each word in the document\n",
    "                for word in doc:\n",
    "                    if word in self.vocabulary:\n",
    "                        log_prob += np.log(self.word_likelihoods[label].get(word, 1 / (sum(self.word_likelihoods[label].values()) + len(self.vocabulary))))\n",
    "                \n",
    "                class_probs[label] = log_prob\n",
    "            \n",
    "            # Predict the class with the highest probability\n",
    "            best_label = max(class_probs, key=class_probs.get)\n",
    "            predictions.append(best_label)\n",
    "        \n",
    "        return predictions"
   ]
  },
  {
   "cell_type": "code",
   "execution_count": 91,
   "metadata": {},
   "outputs": [],
   "source": [
    "nb_classifier = NaiveBayesClassifier()\n",
    "nb_classifier.fit(X_train[\"Lyric\"], X_train[\"Artist\"])"
   ]
  },
  {
   "cell_type": "code",
   "execution_count": 92,
   "metadata": {},
   "outputs": [
    {
     "data": {
      "text/plain": [
       "0.5705394190871369"
      ]
     },
     "execution_count": 92,
     "metadata": {},
     "output_type": "execute_result"
    }
   ],
   "source": [
    "predictions = nb_classifier.predict(X_dev[\"Lyric\"])\n",
    "\n",
    "from sklearn.metrics import accuracy_score\n",
    "accuracy_score(X_dev[\"Artist\"], predictions)"
   ]
  },
  {
   "cell_type": "code",
   "execution_count": 109,
   "metadata": {},
   "outputs": [
    {
     "data": {
      "text/plain": [
       "0.5883575883575883"
      ]
     },
     "execution_count": 109,
     "metadata": {},
     "output_type": "execute_result"
    }
   ],
   "source": [
    "predictions = nb_classifier.predict(X_test[\"Lyric\"])\n",
    "accuracy_score(X_test[\"Artist\"], predictions)"
   ]
  },
  {
   "cell_type": "markdown",
   "metadata": {
    "id": "Sw3rUf-w-vMD"
   },
   "source": [
    "### 6. Feature Selection and Engineering for other two classification methods - Select your features and convert your data with respect to these features. For example, if you will use numerical representation, use appropriate methods to transform your data to vectors."
   ]
  },
  {
   "cell_type": "code",
   "execution_count": 98,
   "metadata": {
    "id": "oROkxaE6PnIv"
   },
   "outputs": [],
   "source": [
    "import xgboost as xgb\n",
    "from sklearn.feature_extraction.text import TfidfVectorizer\n",
    "from sklearn.metrics import accuracy_score\n",
    "from sklearn.preprocessing import LabelEncoder\n",
    "\n",
    "# Transform text to TF-IDF features\n",
    "vectorizer = TfidfVectorizer()\n",
    "vectorizer.fit(X_train[\"Lyric\"].apply(lambda x: ' '.join(x)))\n",
    "\n",
    "X_train_tfidf = vectorizer.transform(X_train[\"Lyric\"].apply(lambda x: ' '.join(x)))\n",
    "X_dev_tfidf = vectorizer.transform(X_dev[\"Lyric\"].apply(lambda x: ' '.join(x)))\n",
    "X_test_tfidf = vectorizer.transform(X_test[\"Lyric\"].apply(lambda x: ' '.join(x)))\n"
   ]
  },
  {
   "cell_type": "markdown",
   "metadata": {
    "id": "6KM5n5g0-91C"
   },
   "source": [
    "### 7. Model Training and Evaluation\n",
    "#### - Use several models to train on the dataset\n",
    "#### - Use development dataset to see your system performances and optimize your system as you want.\n",
    "#### - Lastly, evaluate your results with accuracy and F1 scores using test set.\n",
    "#### - Report on the performance on the test set with comparison between methods and confusion matrices."
   ]
  },
  {
   "cell_type": "code",
   "execution_count": 99,
   "metadata": {
    "id": "vg9Qt9h5Ug-H"
   },
   "outputs": [
    {
     "name": "stderr",
     "output_type": "stream",
     "text": [
      "C:\\Users\\kanat\\AppData\\Local\\Packages\\PythonSoftwareFoundation.Python.3.12_qbz5n2kfra8p0\\LocalCache\\local-packages\\Python312\\site-packages\\xgboost\\core.py:158: UserWarning: [15:29:09] WARNING: C:\\buildkite-agent\\builds\\buildkite-windows-cpu-autoscaling-group-i-0ed59c031377d09b8-1\\xgboost\\xgboost-ci-windows\\src\\learner.cc:740: \n",
      "Parameters: { \"use_label_encoder\" } are not used.\n",
      "\n",
      "  warnings.warn(smsg, UserWarning)\n",
      "C:\\Users\\kanat\\AppData\\Local\\Packages\\PythonSoftwareFoundation.Python.3.12_qbz5n2kfra8p0\\LocalCache\\local-packages\\Python312\\site-packages\\xgboost\\core.py:158: UserWarning: [15:29:29] WARNING: C:\\buildkite-agent\\builds\\buildkite-windows-cpu-autoscaling-group-i-0ed59c031377d09b8-1\\xgboost\\xgboost-ci-windows\\src\\learner.cc:740: \n",
      "Parameters: { \"use_label_encoder\" } are not used.\n",
      "\n",
      "  warnings.warn(smsg, UserWarning)\n",
      "C:\\Users\\kanat\\AppData\\Local\\Packages\\PythonSoftwareFoundation.Python.3.12_qbz5n2kfra8p0\\LocalCache\\local-packages\\Python312\\site-packages\\xgboost\\core.py:158: UserWarning: [15:29:49] WARNING: C:\\buildkite-agent\\builds\\buildkite-windows-cpu-autoscaling-group-i-0ed59c031377d09b8-1\\xgboost\\xgboost-ci-windows\\src\\learner.cc:740: \n",
      "Parameters: { \"use_label_encoder\" } are not used.\n",
      "\n",
      "  warnings.warn(smsg, UserWarning)\n",
      "C:\\Users\\kanat\\AppData\\Local\\Packages\\PythonSoftwareFoundation.Python.3.12_qbz5n2kfra8p0\\LocalCache\\local-packages\\Python312\\site-packages\\xgboost\\core.py:158: UserWarning: [15:30:09] WARNING: C:\\buildkite-agent\\builds\\buildkite-windows-cpu-autoscaling-group-i-0ed59c031377d09b8-1\\xgboost\\xgboost-ci-windows\\src\\learner.cc:740: \n",
      "Parameters: { \"use_label_encoder\" } are not used.\n",
      "\n",
      "  warnings.warn(smsg, UserWarning)\n",
      "C:\\Users\\kanat\\AppData\\Local\\Packages\\PythonSoftwareFoundation.Python.3.12_qbz5n2kfra8p0\\LocalCache\\local-packages\\Python312\\site-packages\\xgboost\\core.py:158: UserWarning: [15:30:44] WARNING: C:\\buildkite-agent\\builds\\buildkite-windows-cpu-autoscaling-group-i-0ed59c031377d09b8-1\\xgboost\\xgboost-ci-windows\\src\\learner.cc:740: \n",
      "Parameters: { \"use_label_encoder\" } are not used.\n",
      "\n",
      "  warnings.warn(smsg, UserWarning)\n",
      "C:\\Users\\kanat\\AppData\\Local\\Packages\\PythonSoftwareFoundation.Python.3.12_qbz5n2kfra8p0\\LocalCache\\local-packages\\Python312\\site-packages\\xgboost\\core.py:158: UserWarning: [15:31:19] WARNING: C:\\buildkite-agent\\builds\\buildkite-windows-cpu-autoscaling-group-i-0ed59c031377d09b8-1\\xgboost\\xgboost-ci-windows\\src\\learner.cc:740: \n",
      "Parameters: { \"use_label_encoder\" } are not used.\n",
      "\n",
      "  warnings.warn(smsg, UserWarning)\n",
      "C:\\Users\\kanat\\AppData\\Local\\Packages\\PythonSoftwareFoundation.Python.3.12_qbz5n2kfra8p0\\LocalCache\\local-packages\\Python312\\site-packages\\xgboost\\core.py:158: UserWarning: [15:31:55] WARNING: C:\\buildkite-agent\\builds\\buildkite-windows-cpu-autoscaling-group-i-0ed59c031377d09b8-1\\xgboost\\xgboost-ci-windows\\src\\learner.cc:740: \n",
      "Parameters: { \"use_label_encoder\" } are not used.\n",
      "\n",
      "  warnings.warn(smsg, UserWarning)\n",
      "C:\\Users\\kanat\\AppData\\Local\\Packages\\PythonSoftwareFoundation.Python.3.12_qbz5n2kfra8p0\\LocalCache\\local-packages\\Python312\\site-packages\\xgboost\\core.py:158: UserWarning: [15:32:43] WARNING: C:\\buildkite-agent\\builds\\buildkite-windows-cpu-autoscaling-group-i-0ed59c031377d09b8-1\\xgboost\\xgboost-ci-windows\\src\\learner.cc:740: \n",
      "Parameters: { \"use_label_encoder\" } are not used.\n",
      "\n",
      "  warnings.warn(smsg, UserWarning)\n",
      "C:\\Users\\kanat\\AppData\\Local\\Packages\\PythonSoftwareFoundation.Python.3.12_qbz5n2kfra8p0\\LocalCache\\local-packages\\Python312\\site-packages\\xgboost\\core.py:158: UserWarning: [15:33:33] WARNING: C:\\buildkite-agent\\builds\\buildkite-windows-cpu-autoscaling-group-i-0ed59c031377d09b8-1\\xgboost\\xgboost-ci-windows\\src\\learner.cc:740: \n",
      "Parameters: { \"use_label_encoder\" } are not used.\n",
      "\n",
      "  warnings.warn(smsg, UserWarning)\n",
      "C:\\Users\\kanat\\AppData\\Local\\Packages\\PythonSoftwareFoundation.Python.3.12_qbz5n2kfra8p0\\LocalCache\\local-packages\\Python312\\site-packages\\xgboost\\core.py:158: UserWarning: [15:34:29] WARNING: C:\\buildkite-agent\\builds\\buildkite-windows-cpu-autoscaling-group-i-0ed59c031377d09b8-1\\xgboost\\xgboost-ci-windows\\src\\learner.cc:740: \n",
      "Parameters: { \"use_label_encoder\" } are not used.\n",
      "\n",
      "  warnings.warn(smsg, UserWarning)\n",
      "C:\\Users\\kanat\\AppData\\Local\\Packages\\PythonSoftwareFoundation.Python.3.12_qbz5n2kfra8p0\\LocalCache\\local-packages\\Python312\\site-packages\\xgboost\\core.py:158: UserWarning: [15:35:03] WARNING: C:\\buildkite-agent\\builds\\buildkite-windows-cpu-autoscaling-group-i-0ed59c031377d09b8-1\\xgboost\\xgboost-ci-windows\\src\\learner.cc:740: \n",
      "Parameters: { \"use_label_encoder\" } are not used.\n",
      "\n",
      "  warnings.warn(smsg, UserWarning)\n",
      "C:\\Users\\kanat\\AppData\\Local\\Packages\\PythonSoftwareFoundation.Python.3.12_qbz5n2kfra8p0\\LocalCache\\local-packages\\Python312\\site-packages\\xgboost\\core.py:158: UserWarning: [15:35:39] WARNING: C:\\buildkite-agent\\builds\\buildkite-windows-cpu-autoscaling-group-i-0ed59c031377d09b8-1\\xgboost\\xgboost-ci-windows\\src\\learner.cc:740: \n",
      "Parameters: { \"use_label_encoder\" } are not used.\n",
      "\n",
      "  warnings.warn(smsg, UserWarning)\n",
      "C:\\Users\\kanat\\AppData\\Local\\Packages\\PythonSoftwareFoundation.Python.3.12_qbz5n2kfra8p0\\LocalCache\\local-packages\\Python312\\site-packages\\xgboost\\core.py:158: UserWarning: [15:36:12] WARNING: C:\\buildkite-agent\\builds\\buildkite-windows-cpu-autoscaling-group-i-0ed59c031377d09b8-1\\xgboost\\xgboost-ci-windows\\src\\learner.cc:740: \n",
      "Parameters: { \"use_label_encoder\" } are not used.\n",
      "\n",
      "  warnings.warn(smsg, UserWarning)\n",
      "C:\\Users\\kanat\\AppData\\Local\\Packages\\PythonSoftwareFoundation.Python.3.12_qbz5n2kfra8p0\\LocalCache\\local-packages\\Python312\\site-packages\\xgboost\\core.py:158: UserWarning: [15:37:08] WARNING: C:\\buildkite-agent\\builds\\buildkite-windows-cpu-autoscaling-group-i-0ed59c031377d09b8-1\\xgboost\\xgboost-ci-windows\\src\\learner.cc:740: \n",
      "Parameters: { \"use_label_encoder\" } are not used.\n",
      "\n",
      "  warnings.warn(smsg, UserWarning)\n",
      "C:\\Users\\kanat\\AppData\\Local\\Packages\\PythonSoftwareFoundation.Python.3.12_qbz5n2kfra8p0\\LocalCache\\local-packages\\Python312\\site-packages\\xgboost\\core.py:158: UserWarning: [15:38:07] WARNING: C:\\buildkite-agent\\builds\\buildkite-windows-cpu-autoscaling-group-i-0ed59c031377d09b8-1\\xgboost\\xgboost-ci-windows\\src\\learner.cc:740: \n",
      "Parameters: { \"use_label_encoder\" } are not used.\n",
      "\n",
      "  warnings.warn(smsg, UserWarning)\n",
      "C:\\Users\\kanat\\AppData\\Local\\Packages\\PythonSoftwareFoundation.Python.3.12_qbz5n2kfra8p0\\LocalCache\\local-packages\\Python312\\site-packages\\xgboost\\core.py:158: UserWarning: [15:39:02] WARNING: C:\\buildkite-agent\\builds\\buildkite-windows-cpu-autoscaling-group-i-0ed59c031377d09b8-1\\xgboost\\xgboost-ci-windows\\src\\learner.cc:740: \n",
      "Parameters: { \"use_label_encoder\" } are not used.\n",
      "\n",
      "  warnings.warn(smsg, UserWarning)\n",
      "C:\\Users\\kanat\\AppData\\Local\\Packages\\PythonSoftwareFoundation.Python.3.12_qbz5n2kfra8p0\\LocalCache\\local-packages\\Python312\\site-packages\\xgboost\\core.py:158: UserWarning: [15:40:12] WARNING: C:\\buildkite-agent\\builds\\buildkite-windows-cpu-autoscaling-group-i-0ed59c031377d09b8-1\\xgboost\\xgboost-ci-windows\\src\\learner.cc:740: \n",
      "Parameters: { \"use_label_encoder\" } are not used.\n",
      "\n",
      "  warnings.warn(smsg, UserWarning)\n",
      "C:\\Users\\kanat\\AppData\\Local\\Packages\\PythonSoftwareFoundation.Python.3.12_qbz5n2kfra8p0\\LocalCache\\local-packages\\Python312\\site-packages\\xgboost\\core.py:158: UserWarning: [15:41:28] WARNING: C:\\buildkite-agent\\builds\\buildkite-windows-cpu-autoscaling-group-i-0ed59c031377d09b8-1\\xgboost\\xgboost-ci-windows\\src\\learner.cc:740: \n",
      "Parameters: { \"use_label_encoder\" } are not used.\n",
      "\n",
      "  warnings.warn(smsg, UserWarning)\n",
      "C:\\Users\\kanat\\AppData\\Local\\Packages\\PythonSoftwareFoundation.Python.3.12_qbz5n2kfra8p0\\LocalCache\\local-packages\\Python312\\site-packages\\xgboost\\core.py:158: UserWarning: [15:42:43] WARNING: C:\\buildkite-agent\\builds\\buildkite-windows-cpu-autoscaling-group-i-0ed59c031377d09b8-1\\xgboost\\xgboost-ci-windows\\src\\learner.cc:740: \n",
      "Parameters: { \"use_label_encoder\" } are not used.\n",
      "\n",
      "  warnings.warn(smsg, UserWarning)\n",
      "C:\\Users\\kanat\\AppData\\Local\\Packages\\PythonSoftwareFoundation.Python.3.12_qbz5n2kfra8p0\\LocalCache\\local-packages\\Python312\\site-packages\\xgboost\\core.py:158: UserWarning: [15:43:25] WARNING: C:\\buildkite-agent\\builds\\buildkite-windows-cpu-autoscaling-group-i-0ed59c031377d09b8-1\\xgboost\\xgboost-ci-windows\\src\\learner.cc:740: \n",
      "Parameters: { \"use_label_encoder\" } are not used.\n",
      "\n",
      "  warnings.warn(smsg, UserWarning)\n",
      "C:\\Users\\kanat\\AppData\\Local\\Packages\\PythonSoftwareFoundation.Python.3.12_qbz5n2kfra8p0\\LocalCache\\local-packages\\Python312\\site-packages\\xgboost\\core.py:158: UserWarning: [15:44:07] WARNING: C:\\buildkite-agent\\builds\\buildkite-windows-cpu-autoscaling-group-i-0ed59c031377d09b8-1\\xgboost\\xgboost-ci-windows\\src\\learner.cc:740: \n",
      "Parameters: { \"use_label_encoder\" } are not used.\n",
      "\n",
      "  warnings.warn(smsg, UserWarning)\n",
      "C:\\Users\\kanat\\AppData\\Local\\Packages\\PythonSoftwareFoundation.Python.3.12_qbz5n2kfra8p0\\LocalCache\\local-packages\\Python312\\site-packages\\xgboost\\core.py:158: UserWarning: [15:44:50] WARNING: C:\\buildkite-agent\\builds\\buildkite-windows-cpu-autoscaling-group-i-0ed59c031377d09b8-1\\xgboost\\xgboost-ci-windows\\src\\learner.cc:740: \n",
      "Parameters: { \"use_label_encoder\" } are not used.\n",
      "\n",
      "  warnings.warn(smsg, UserWarning)\n",
      "C:\\Users\\kanat\\AppData\\Local\\Packages\\PythonSoftwareFoundation.Python.3.12_qbz5n2kfra8p0\\LocalCache\\local-packages\\Python312\\site-packages\\xgboost\\core.py:158: UserWarning: [15:45:58] WARNING: C:\\buildkite-agent\\builds\\buildkite-windows-cpu-autoscaling-group-i-0ed59c031377d09b8-1\\xgboost\\xgboost-ci-windows\\src\\learner.cc:740: \n",
      "Parameters: { \"use_label_encoder\" } are not used.\n",
      "\n",
      "  warnings.warn(smsg, UserWarning)\n",
      "C:\\Users\\kanat\\AppData\\Local\\Packages\\PythonSoftwareFoundation.Python.3.12_qbz5n2kfra8p0\\LocalCache\\local-packages\\Python312\\site-packages\\xgboost\\core.py:158: UserWarning: [15:47:06] WARNING: C:\\buildkite-agent\\builds\\buildkite-windows-cpu-autoscaling-group-i-0ed59c031377d09b8-1\\xgboost\\xgboost-ci-windows\\src\\learner.cc:740: \n",
      "Parameters: { \"use_label_encoder\" } are not used.\n",
      "\n",
      "  warnings.warn(smsg, UserWarning)\n",
      "C:\\Users\\kanat\\AppData\\Local\\Packages\\PythonSoftwareFoundation.Python.3.12_qbz5n2kfra8p0\\LocalCache\\local-packages\\Python312\\site-packages\\xgboost\\core.py:158: UserWarning: [15:48:20] WARNING: C:\\buildkite-agent\\builds\\buildkite-windows-cpu-autoscaling-group-i-0ed59c031377d09b8-1\\xgboost\\xgboost-ci-windows\\src\\learner.cc:740: \n",
      "Parameters: { \"use_label_encoder\" } are not used.\n",
      "\n",
      "  warnings.warn(smsg, UserWarning)\n",
      "C:\\Users\\kanat\\AppData\\Local\\Packages\\PythonSoftwareFoundation.Python.3.12_qbz5n2kfra8p0\\LocalCache\\local-packages\\Python312\\site-packages\\xgboost\\core.py:158: UserWarning: [15:49:42] WARNING: C:\\buildkite-agent\\builds\\buildkite-windows-cpu-autoscaling-group-i-0ed59c031377d09b8-1\\xgboost\\xgboost-ci-windows\\src\\learner.cc:740: \n",
      "Parameters: { \"use_label_encoder\" } are not used.\n",
      "\n",
      "  warnings.warn(smsg, UserWarning)\n",
      "C:\\Users\\kanat\\AppData\\Local\\Packages\\PythonSoftwareFoundation.Python.3.12_qbz5n2kfra8p0\\LocalCache\\local-packages\\Python312\\site-packages\\xgboost\\core.py:158: UserWarning: [15:50:56] WARNING: C:\\buildkite-agent\\builds\\buildkite-windows-cpu-autoscaling-group-i-0ed59c031377d09b8-1\\xgboost\\xgboost-ci-windows\\src\\learner.cc:740: \n",
      "Parameters: { \"use_label_encoder\" } are not used.\n",
      "\n",
      "  warnings.warn(smsg, UserWarning)\n",
      "C:\\Users\\kanat\\AppData\\Local\\Packages\\PythonSoftwareFoundation.Python.3.12_qbz5n2kfra8p0\\LocalCache\\local-packages\\Python312\\site-packages\\xgboost\\core.py:158: UserWarning: [15:52:11] WARNING: C:\\buildkite-agent\\builds\\buildkite-windows-cpu-autoscaling-group-i-0ed59c031377d09b8-1\\xgboost\\xgboost-ci-windows\\src\\learner.cc:740: \n",
      "Parameters: { \"use_label_encoder\" } are not used.\n",
      "\n",
      "  warnings.warn(smsg, UserWarning)\n",
      "C:\\Users\\kanat\\AppData\\Local\\Packages\\PythonSoftwareFoundation.Python.3.12_qbz5n2kfra8p0\\LocalCache\\local-packages\\Python312\\site-packages\\xgboost\\core.py:158: UserWarning: [15:52:26] WARNING: C:\\buildkite-agent\\builds\\buildkite-windows-cpu-autoscaling-group-i-0ed59c031377d09b8-1\\xgboost\\xgboost-ci-windows\\src\\learner.cc:740: \n",
      "Parameters: { \"use_label_encoder\" } are not used.\n",
      "\n",
      "  warnings.warn(smsg, UserWarning)\n",
      "C:\\Users\\kanat\\AppData\\Local\\Packages\\PythonSoftwareFoundation.Python.3.12_qbz5n2kfra8p0\\LocalCache\\local-packages\\Python312\\site-packages\\xgboost\\core.py:158: UserWarning: [15:52:40] WARNING: C:\\buildkite-agent\\builds\\buildkite-windows-cpu-autoscaling-group-i-0ed59c031377d09b8-1\\xgboost\\xgboost-ci-windows\\src\\learner.cc:740: \n",
      "Parameters: { \"use_label_encoder\" } are not used.\n",
      "\n",
      "  warnings.warn(smsg, UserWarning)\n",
      "C:\\Users\\kanat\\AppData\\Local\\Packages\\PythonSoftwareFoundation.Python.3.12_qbz5n2kfra8p0\\LocalCache\\local-packages\\Python312\\site-packages\\xgboost\\core.py:158: UserWarning: [15:52:55] WARNING: C:\\buildkite-agent\\builds\\buildkite-windows-cpu-autoscaling-group-i-0ed59c031377d09b8-1\\xgboost\\xgboost-ci-windows\\src\\learner.cc:740: \n",
      "Parameters: { \"use_label_encoder\" } are not used.\n",
      "\n",
      "  warnings.warn(smsg, UserWarning)\n",
      "C:\\Users\\kanat\\AppData\\Local\\Packages\\PythonSoftwareFoundation.Python.3.12_qbz5n2kfra8p0\\LocalCache\\local-packages\\Python312\\site-packages\\xgboost\\core.py:158: UserWarning: [15:53:20] WARNING: C:\\buildkite-agent\\builds\\buildkite-windows-cpu-autoscaling-group-i-0ed59c031377d09b8-1\\xgboost\\xgboost-ci-windows\\src\\learner.cc:740: \n",
      "Parameters: { \"use_label_encoder\" } are not used.\n",
      "\n",
      "  warnings.warn(smsg, UserWarning)\n",
      "C:\\Users\\kanat\\AppData\\Local\\Packages\\PythonSoftwareFoundation.Python.3.12_qbz5n2kfra8p0\\LocalCache\\local-packages\\Python312\\site-packages\\xgboost\\core.py:158: UserWarning: [15:53:46] WARNING: C:\\buildkite-agent\\builds\\buildkite-windows-cpu-autoscaling-group-i-0ed59c031377d09b8-1\\xgboost\\xgboost-ci-windows\\src\\learner.cc:740: \n",
      "Parameters: { \"use_label_encoder\" } are not used.\n",
      "\n",
      "  warnings.warn(smsg, UserWarning)\n",
      "C:\\Users\\kanat\\AppData\\Local\\Packages\\PythonSoftwareFoundation.Python.3.12_qbz5n2kfra8p0\\LocalCache\\local-packages\\Python312\\site-packages\\xgboost\\core.py:158: UserWarning: [15:54:12] WARNING: C:\\buildkite-agent\\builds\\buildkite-windows-cpu-autoscaling-group-i-0ed59c031377d09b8-1\\xgboost\\xgboost-ci-windows\\src\\learner.cc:740: \n",
      "Parameters: { \"use_label_encoder\" } are not used.\n",
      "\n",
      "  warnings.warn(smsg, UserWarning)\n",
      "C:\\Users\\kanat\\AppData\\Local\\Packages\\PythonSoftwareFoundation.Python.3.12_qbz5n2kfra8p0\\LocalCache\\local-packages\\Python312\\site-packages\\xgboost\\core.py:158: UserWarning: [15:54:46] WARNING: C:\\buildkite-agent\\builds\\buildkite-windows-cpu-autoscaling-group-i-0ed59c031377d09b8-1\\xgboost\\xgboost-ci-windows\\src\\learner.cc:740: \n",
      "Parameters: { \"use_label_encoder\" } are not used.\n",
      "\n",
      "  warnings.warn(smsg, UserWarning)\n",
      "C:\\Users\\kanat\\AppData\\Local\\Packages\\PythonSoftwareFoundation.Python.3.12_qbz5n2kfra8p0\\LocalCache\\local-packages\\Python312\\site-packages\\xgboost\\core.py:158: UserWarning: [15:55:20] WARNING: C:\\buildkite-agent\\builds\\buildkite-windows-cpu-autoscaling-group-i-0ed59c031377d09b8-1\\xgboost\\xgboost-ci-windows\\src\\learner.cc:740: \n",
      "Parameters: { \"use_label_encoder\" } are not used.\n",
      "\n",
      "  warnings.warn(smsg, UserWarning)\n",
      "C:\\Users\\kanat\\AppData\\Local\\Packages\\PythonSoftwareFoundation.Python.3.12_qbz5n2kfra8p0\\LocalCache\\local-packages\\Python312\\site-packages\\xgboost\\core.py:158: UserWarning: [15:55:55] WARNING: C:\\buildkite-agent\\builds\\buildkite-windows-cpu-autoscaling-group-i-0ed59c031377d09b8-1\\xgboost\\xgboost-ci-windows\\src\\learner.cc:740: \n",
      "Parameters: { \"use_label_encoder\" } are not used.\n",
      "\n",
      "  warnings.warn(smsg, UserWarning)\n",
      "C:\\Users\\kanat\\AppData\\Local\\Packages\\PythonSoftwareFoundation.Python.3.12_qbz5n2kfra8p0\\LocalCache\\local-packages\\Python312\\site-packages\\xgboost\\core.py:158: UserWarning: [15:56:15] WARNING: C:\\buildkite-agent\\builds\\buildkite-windows-cpu-autoscaling-group-i-0ed59c031377d09b8-1\\xgboost\\xgboost-ci-windows\\src\\learner.cc:740: \n",
      "Parameters: { \"use_label_encoder\" } are not used.\n",
      "\n",
      "  warnings.warn(smsg, UserWarning)\n",
      "C:\\Users\\kanat\\AppData\\Local\\Packages\\PythonSoftwareFoundation.Python.3.12_qbz5n2kfra8p0\\LocalCache\\local-packages\\Python312\\site-packages\\xgboost\\core.py:158: UserWarning: [15:56:37] WARNING: C:\\buildkite-agent\\builds\\buildkite-windows-cpu-autoscaling-group-i-0ed59c031377d09b8-1\\xgboost\\xgboost-ci-windows\\src\\learner.cc:740: \n",
      "Parameters: { \"use_label_encoder\" } are not used.\n",
      "\n",
      "  warnings.warn(smsg, UserWarning)\n",
      "C:\\Users\\kanat\\AppData\\Local\\Packages\\PythonSoftwareFoundation.Python.3.12_qbz5n2kfra8p0\\LocalCache\\local-packages\\Python312\\site-packages\\xgboost\\core.py:158: UserWarning: [15:56:58] WARNING: C:\\buildkite-agent\\builds\\buildkite-windows-cpu-autoscaling-group-i-0ed59c031377d09b8-1\\xgboost\\xgboost-ci-windows\\src\\learner.cc:740: \n",
      "Parameters: { \"use_label_encoder\" } are not used.\n",
      "\n",
      "  warnings.warn(smsg, UserWarning)\n",
      "C:\\Users\\kanat\\AppData\\Local\\Packages\\PythonSoftwareFoundation.Python.3.12_qbz5n2kfra8p0\\LocalCache\\local-packages\\Python312\\site-packages\\xgboost\\core.py:158: UserWarning: [15:57:30] WARNING: C:\\buildkite-agent\\builds\\buildkite-windows-cpu-autoscaling-group-i-0ed59c031377d09b8-1\\xgboost\\xgboost-ci-windows\\src\\learner.cc:740: \n",
      "Parameters: { \"use_label_encoder\" } are not used.\n",
      "\n",
      "  warnings.warn(smsg, UserWarning)\n",
      "C:\\Users\\kanat\\AppData\\Local\\Packages\\PythonSoftwareFoundation.Python.3.12_qbz5n2kfra8p0\\LocalCache\\local-packages\\Python312\\site-packages\\xgboost\\core.py:158: UserWarning: [15:58:04] WARNING: C:\\buildkite-agent\\builds\\buildkite-windows-cpu-autoscaling-group-i-0ed59c031377d09b8-1\\xgboost\\xgboost-ci-windows\\src\\learner.cc:740: \n",
      "Parameters: { \"use_label_encoder\" } are not used.\n",
      "\n",
      "  warnings.warn(smsg, UserWarning)\n",
      "C:\\Users\\kanat\\AppData\\Local\\Packages\\PythonSoftwareFoundation.Python.3.12_qbz5n2kfra8p0\\LocalCache\\local-packages\\Python312\\site-packages\\xgboost\\core.py:158: UserWarning: [15:58:37] WARNING: C:\\buildkite-agent\\builds\\buildkite-windows-cpu-autoscaling-group-i-0ed59c031377d09b8-1\\xgboost\\xgboost-ci-windows\\src\\learner.cc:740: \n",
      "Parameters: { \"use_label_encoder\" } are not used.\n",
      "\n",
      "  warnings.warn(smsg, UserWarning)\n",
      "C:\\Users\\kanat\\AppData\\Local\\Packages\\PythonSoftwareFoundation.Python.3.12_qbz5n2kfra8p0\\LocalCache\\local-packages\\Python312\\site-packages\\xgboost\\core.py:158: UserWarning: [15:59:19] WARNING: C:\\buildkite-agent\\builds\\buildkite-windows-cpu-autoscaling-group-i-0ed59c031377d09b8-1\\xgboost\\xgboost-ci-windows\\src\\learner.cc:740: \n",
      "Parameters: { \"use_label_encoder\" } are not used.\n",
      "\n",
      "  warnings.warn(smsg, UserWarning)\n",
      "C:\\Users\\kanat\\AppData\\Local\\Packages\\PythonSoftwareFoundation.Python.3.12_qbz5n2kfra8p0\\LocalCache\\local-packages\\Python312\\site-packages\\xgboost\\core.py:158: UserWarning: [15:59:58] WARNING: C:\\buildkite-agent\\builds\\buildkite-windows-cpu-autoscaling-group-i-0ed59c031377d09b8-1\\xgboost\\xgboost-ci-windows\\src\\learner.cc:740: \n",
      "Parameters: { \"use_label_encoder\" } are not used.\n",
      "\n",
      "  warnings.warn(smsg, UserWarning)\n",
      "C:\\Users\\kanat\\AppData\\Local\\Packages\\PythonSoftwareFoundation.Python.3.12_qbz5n2kfra8p0\\LocalCache\\local-packages\\Python312\\site-packages\\xgboost\\core.py:158: UserWarning: [16:00:38] WARNING: C:\\buildkite-agent\\builds\\buildkite-windows-cpu-autoscaling-group-i-0ed59c031377d09b8-1\\xgboost\\xgboost-ci-windows\\src\\learner.cc:740: \n",
      "Parameters: { \"use_label_encoder\" } are not used.\n",
      "\n",
      "  warnings.warn(smsg, UserWarning)\n",
      "C:\\Users\\kanat\\AppData\\Local\\Packages\\PythonSoftwareFoundation.Python.3.12_qbz5n2kfra8p0\\LocalCache\\local-packages\\Python312\\site-packages\\xgboost\\core.py:158: UserWarning: [16:01:01] WARNING: C:\\buildkite-agent\\builds\\buildkite-windows-cpu-autoscaling-group-i-0ed59c031377d09b8-1\\xgboost\\xgboost-ci-windows\\src\\learner.cc:740: \n",
      "Parameters: { \"use_label_encoder\" } are not used.\n",
      "\n",
      "  warnings.warn(smsg, UserWarning)\n",
      "C:\\Users\\kanat\\AppData\\Local\\Packages\\PythonSoftwareFoundation.Python.3.12_qbz5n2kfra8p0\\LocalCache\\local-packages\\Python312\\site-packages\\xgboost\\core.py:158: UserWarning: [16:01:25] WARNING: C:\\buildkite-agent\\builds\\buildkite-windows-cpu-autoscaling-group-i-0ed59c031377d09b8-1\\xgboost\\xgboost-ci-windows\\src\\learner.cc:740: \n",
      "Parameters: { \"use_label_encoder\" } are not used.\n",
      "\n",
      "  warnings.warn(smsg, UserWarning)\n",
      "C:\\Users\\kanat\\AppData\\Local\\Packages\\PythonSoftwareFoundation.Python.3.12_qbz5n2kfra8p0\\LocalCache\\local-packages\\Python312\\site-packages\\xgboost\\core.py:158: UserWarning: [16:01:49] WARNING: C:\\buildkite-agent\\builds\\buildkite-windows-cpu-autoscaling-group-i-0ed59c031377d09b8-1\\xgboost\\xgboost-ci-windows\\src\\learner.cc:740: \n",
      "Parameters: { \"use_label_encoder\" } are not used.\n",
      "\n",
      "  warnings.warn(smsg, UserWarning)\n",
      "C:\\Users\\kanat\\AppData\\Local\\Packages\\PythonSoftwareFoundation.Python.3.12_qbz5n2kfra8p0\\LocalCache\\local-packages\\Python312\\site-packages\\xgboost\\core.py:158: UserWarning: [16:02:23] WARNING: C:\\buildkite-agent\\builds\\buildkite-windows-cpu-autoscaling-group-i-0ed59c031377d09b8-1\\xgboost\\xgboost-ci-windows\\src\\learner.cc:740: \n",
      "Parameters: { \"use_label_encoder\" } are not used.\n",
      "\n",
      "  warnings.warn(smsg, UserWarning)\n",
      "C:\\Users\\kanat\\AppData\\Local\\Packages\\PythonSoftwareFoundation.Python.3.12_qbz5n2kfra8p0\\LocalCache\\local-packages\\Python312\\site-packages\\xgboost\\core.py:158: UserWarning: [16:02:57] WARNING: C:\\buildkite-agent\\builds\\buildkite-windows-cpu-autoscaling-group-i-0ed59c031377d09b8-1\\xgboost\\xgboost-ci-windows\\src\\learner.cc:740: \n",
      "Parameters: { \"use_label_encoder\" } are not used.\n",
      "\n",
      "  warnings.warn(smsg, UserWarning)\n",
      "C:\\Users\\kanat\\AppData\\Local\\Packages\\PythonSoftwareFoundation.Python.3.12_qbz5n2kfra8p0\\LocalCache\\local-packages\\Python312\\site-packages\\xgboost\\core.py:158: UserWarning: [16:03:31] WARNING: C:\\buildkite-agent\\builds\\buildkite-windows-cpu-autoscaling-group-i-0ed59c031377d09b8-1\\xgboost\\xgboost-ci-windows\\src\\learner.cc:740: \n",
      "Parameters: { \"use_label_encoder\" } are not used.\n",
      "\n",
      "  warnings.warn(smsg, UserWarning)\n",
      "C:\\Users\\kanat\\AppData\\Local\\Packages\\PythonSoftwareFoundation.Python.3.12_qbz5n2kfra8p0\\LocalCache\\local-packages\\Python312\\site-packages\\xgboost\\core.py:158: UserWarning: [16:04:13] WARNING: C:\\buildkite-agent\\builds\\buildkite-windows-cpu-autoscaling-group-i-0ed59c031377d09b8-1\\xgboost\\xgboost-ci-windows\\src\\learner.cc:740: \n",
      "Parameters: { \"use_label_encoder\" } are not used.\n",
      "\n",
      "  warnings.warn(smsg, UserWarning)\n",
      "C:\\Users\\kanat\\AppData\\Local\\Packages\\PythonSoftwareFoundation.Python.3.12_qbz5n2kfra8p0\\LocalCache\\local-packages\\Python312\\site-packages\\xgboost\\core.py:158: UserWarning: [16:04:56] WARNING: C:\\buildkite-agent\\builds\\buildkite-windows-cpu-autoscaling-group-i-0ed59c031377d09b8-1\\xgboost\\xgboost-ci-windows\\src\\learner.cc:740: \n",
      "Parameters: { \"use_label_encoder\" } are not used.\n",
      "\n",
      "  warnings.warn(smsg, UserWarning)\n",
      "C:\\Users\\kanat\\AppData\\Local\\Packages\\PythonSoftwareFoundation.Python.3.12_qbz5n2kfra8p0\\LocalCache\\local-packages\\Python312\\site-packages\\xgboost\\core.py:158: UserWarning: [16:05:39] WARNING: C:\\buildkite-agent\\builds\\buildkite-windows-cpu-autoscaling-group-i-0ed59c031377d09b8-1\\xgboost\\xgboost-ci-windows\\src\\learner.cc:740: \n",
      "Parameters: { \"use_label_encoder\" } are not used.\n",
      "\n",
      "  warnings.warn(smsg, UserWarning)\n",
      "C:\\Users\\kanat\\AppData\\Local\\Packages\\PythonSoftwareFoundation.Python.3.12_qbz5n2kfra8p0\\LocalCache\\local-packages\\Python312\\site-packages\\xgboost\\core.py:158: UserWarning: [16:05:51] WARNING: C:\\buildkite-agent\\builds\\buildkite-windows-cpu-autoscaling-group-i-0ed59c031377d09b8-1\\xgboost\\xgboost-ci-windows\\src\\learner.cc:740: \n",
      "Parameters: { \"use_label_encoder\" } are not used.\n",
      "\n",
      "  warnings.warn(smsg, UserWarning)\n",
      "C:\\Users\\kanat\\AppData\\Local\\Packages\\PythonSoftwareFoundation.Python.3.12_qbz5n2kfra8p0\\LocalCache\\local-packages\\Python312\\site-packages\\xgboost\\core.py:158: UserWarning: [16:06:03] WARNING: C:\\buildkite-agent\\builds\\buildkite-windows-cpu-autoscaling-group-i-0ed59c031377d09b8-1\\xgboost\\xgboost-ci-windows\\src\\learner.cc:740: \n",
      "Parameters: { \"use_label_encoder\" } are not used.\n",
      "\n",
      "  warnings.warn(smsg, UserWarning)\n",
      "C:\\Users\\kanat\\AppData\\Local\\Packages\\PythonSoftwareFoundation.Python.3.12_qbz5n2kfra8p0\\LocalCache\\local-packages\\Python312\\site-packages\\xgboost\\core.py:158: UserWarning: [16:06:16] WARNING: C:\\buildkite-agent\\builds\\buildkite-windows-cpu-autoscaling-group-i-0ed59c031377d09b8-1\\xgboost\\xgboost-ci-windows\\src\\learner.cc:740: \n",
      "Parameters: { \"use_label_encoder\" } are not used.\n",
      "\n",
      "  warnings.warn(smsg, UserWarning)\n",
      "C:\\Users\\kanat\\AppData\\Local\\Packages\\PythonSoftwareFoundation.Python.3.12_qbz5n2kfra8p0\\LocalCache\\local-packages\\Python312\\site-packages\\xgboost\\core.py:158: UserWarning: [16:06:36] WARNING: C:\\buildkite-agent\\builds\\buildkite-windows-cpu-autoscaling-group-i-0ed59c031377d09b8-1\\xgboost\\xgboost-ci-windows\\src\\learner.cc:740: \n",
      "Parameters: { \"use_label_encoder\" } are not used.\n",
      "\n",
      "  warnings.warn(smsg, UserWarning)\n",
      "C:\\Users\\kanat\\AppData\\Local\\Packages\\PythonSoftwareFoundation.Python.3.12_qbz5n2kfra8p0\\LocalCache\\local-packages\\Python312\\site-packages\\xgboost\\core.py:158: UserWarning: [16:06:57] WARNING: C:\\buildkite-agent\\builds\\buildkite-windows-cpu-autoscaling-group-i-0ed59c031377d09b8-1\\xgboost\\xgboost-ci-windows\\src\\learner.cc:740: \n",
      "Parameters: { \"use_label_encoder\" } are not used.\n",
      "\n",
      "  warnings.warn(smsg, UserWarning)\n",
      "C:\\Users\\kanat\\AppData\\Local\\Packages\\PythonSoftwareFoundation.Python.3.12_qbz5n2kfra8p0\\LocalCache\\local-packages\\Python312\\site-packages\\xgboost\\core.py:158: UserWarning: [16:07:18] WARNING: C:\\buildkite-agent\\builds\\buildkite-windows-cpu-autoscaling-group-i-0ed59c031377d09b8-1\\xgboost\\xgboost-ci-windows\\src\\learner.cc:740: \n",
      "Parameters: { \"use_label_encoder\" } are not used.\n",
      "\n",
      "  warnings.warn(smsg, UserWarning)\n",
      "C:\\Users\\kanat\\AppData\\Local\\Packages\\PythonSoftwareFoundation.Python.3.12_qbz5n2kfra8p0\\LocalCache\\local-packages\\Python312\\site-packages\\xgboost\\core.py:158: UserWarning: [16:07:46] WARNING: C:\\buildkite-agent\\builds\\buildkite-windows-cpu-autoscaling-group-i-0ed59c031377d09b8-1\\xgboost\\xgboost-ci-windows\\src\\learner.cc:740: \n",
      "Parameters: { \"use_label_encoder\" } are not used.\n",
      "\n",
      "  warnings.warn(smsg, UserWarning)\n",
      "C:\\Users\\kanat\\AppData\\Local\\Packages\\PythonSoftwareFoundation.Python.3.12_qbz5n2kfra8p0\\LocalCache\\local-packages\\Python312\\site-packages\\xgboost\\core.py:158: UserWarning: [16:08:14] WARNING: C:\\buildkite-agent\\builds\\buildkite-windows-cpu-autoscaling-group-i-0ed59c031377d09b8-1\\xgboost\\xgboost-ci-windows\\src\\learner.cc:740: \n",
      "Parameters: { \"use_label_encoder\" } are not used.\n",
      "\n",
      "  warnings.warn(smsg, UserWarning)\n",
      "C:\\Users\\kanat\\AppData\\Local\\Packages\\PythonSoftwareFoundation.Python.3.12_qbz5n2kfra8p0\\LocalCache\\local-packages\\Python312\\site-packages\\xgboost\\core.py:158: UserWarning: [16:08:42] WARNING: C:\\buildkite-agent\\builds\\buildkite-windows-cpu-autoscaling-group-i-0ed59c031377d09b8-1\\xgboost\\xgboost-ci-windows\\src\\learner.cc:740: \n",
      "Parameters: { \"use_label_encoder\" } are not used.\n",
      "\n",
      "  warnings.warn(smsg, UserWarning)\n",
      "C:\\Users\\kanat\\AppData\\Local\\Packages\\PythonSoftwareFoundation.Python.3.12_qbz5n2kfra8p0\\LocalCache\\local-packages\\Python312\\site-packages\\xgboost\\core.py:158: UserWarning: [16:08:59] WARNING: C:\\buildkite-agent\\builds\\buildkite-windows-cpu-autoscaling-group-i-0ed59c031377d09b8-1\\xgboost\\xgboost-ci-windows\\src\\learner.cc:740: \n",
      "Parameters: { \"use_label_encoder\" } are not used.\n",
      "\n",
      "  warnings.warn(smsg, UserWarning)\n",
      "C:\\Users\\kanat\\AppData\\Local\\Packages\\PythonSoftwareFoundation.Python.3.12_qbz5n2kfra8p0\\LocalCache\\local-packages\\Python312\\site-packages\\xgboost\\core.py:158: UserWarning: [16:09:15] WARNING: C:\\buildkite-agent\\builds\\buildkite-windows-cpu-autoscaling-group-i-0ed59c031377d09b8-1\\xgboost\\xgboost-ci-windows\\src\\learner.cc:740: \n",
      "Parameters: { \"use_label_encoder\" } are not used.\n",
      "\n",
      "  warnings.warn(smsg, UserWarning)\n",
      "C:\\Users\\kanat\\AppData\\Local\\Packages\\PythonSoftwareFoundation.Python.3.12_qbz5n2kfra8p0\\LocalCache\\local-packages\\Python312\\site-packages\\xgboost\\core.py:158: UserWarning: [16:09:32] WARNING: C:\\buildkite-agent\\builds\\buildkite-windows-cpu-autoscaling-group-i-0ed59c031377d09b8-1\\xgboost\\xgboost-ci-windows\\src\\learner.cc:740: \n",
      "Parameters: { \"use_label_encoder\" } are not used.\n",
      "\n",
      "  warnings.warn(smsg, UserWarning)\n",
      "C:\\Users\\kanat\\AppData\\Local\\Packages\\PythonSoftwareFoundation.Python.3.12_qbz5n2kfra8p0\\LocalCache\\local-packages\\Python312\\site-packages\\xgboost\\core.py:158: UserWarning: [16:12:06] WARNING: C:\\buildkite-agent\\builds\\buildkite-windows-cpu-autoscaling-group-i-0ed59c031377d09b8-1\\xgboost\\xgboost-ci-windows\\src\\learner.cc:740: \n",
      "Parameters: { \"use_label_encoder\" } are not used.\n",
      "\n",
      "  warnings.warn(smsg, UserWarning)\n",
      "C:\\Users\\kanat\\AppData\\Local\\Packages\\PythonSoftwareFoundation.Python.3.12_qbz5n2kfra8p0\\LocalCache\\local-packages\\Python312\\site-packages\\xgboost\\core.py:158: UserWarning: [16:12:33] WARNING: C:\\buildkite-agent\\builds\\buildkite-windows-cpu-autoscaling-group-i-0ed59c031377d09b8-1\\xgboost\\xgboost-ci-windows\\src\\learner.cc:740: \n",
      "Parameters: { \"use_label_encoder\" } are not used.\n",
      "\n",
      "  warnings.warn(smsg, UserWarning)\n",
      "C:\\Users\\kanat\\AppData\\Local\\Packages\\PythonSoftwareFoundation.Python.3.12_qbz5n2kfra8p0\\LocalCache\\local-packages\\Python312\\site-packages\\xgboost\\core.py:158: UserWarning: [16:13:01] WARNING: C:\\buildkite-agent\\builds\\buildkite-windows-cpu-autoscaling-group-i-0ed59c031377d09b8-1\\xgboost\\xgboost-ci-windows\\src\\learner.cc:740: \n",
      "Parameters: { \"use_label_encoder\" } are not used.\n",
      "\n",
      "  warnings.warn(smsg, UserWarning)\n",
      "C:\\Users\\kanat\\AppData\\Local\\Packages\\PythonSoftwareFoundation.Python.3.12_qbz5n2kfra8p0\\LocalCache\\local-packages\\Python312\\site-packages\\xgboost\\core.py:158: UserWarning: [16:13:35] WARNING: C:\\buildkite-agent\\builds\\buildkite-windows-cpu-autoscaling-group-i-0ed59c031377d09b8-1\\xgboost\\xgboost-ci-windows\\src\\learner.cc:740: \n",
      "Parameters: { \"use_label_encoder\" } are not used.\n",
      "\n",
      "  warnings.warn(smsg, UserWarning)\n",
      "C:\\Users\\kanat\\AppData\\Local\\Packages\\PythonSoftwareFoundation.Python.3.12_qbz5n2kfra8p0\\LocalCache\\local-packages\\Python312\\site-packages\\xgboost\\core.py:158: UserWarning: [16:14:09] WARNING: C:\\buildkite-agent\\builds\\buildkite-windows-cpu-autoscaling-group-i-0ed59c031377d09b8-1\\xgboost\\xgboost-ci-windows\\src\\learner.cc:740: \n",
      "Parameters: { \"use_label_encoder\" } are not used.\n",
      "\n",
      "  warnings.warn(smsg, UserWarning)\n",
      "C:\\Users\\kanat\\AppData\\Local\\Packages\\PythonSoftwareFoundation.Python.3.12_qbz5n2kfra8p0\\LocalCache\\local-packages\\Python312\\site-packages\\xgboost\\core.py:158: UserWarning: [16:14:44] WARNING: C:\\buildkite-agent\\builds\\buildkite-windows-cpu-autoscaling-group-i-0ed59c031377d09b8-1\\xgboost\\xgboost-ci-windows\\src\\learner.cc:740: \n",
      "Parameters: { \"use_label_encoder\" } are not used.\n",
      "\n",
      "  warnings.warn(smsg, UserWarning)\n",
      "C:\\Users\\kanat\\AppData\\Local\\Packages\\PythonSoftwareFoundation.Python.3.12_qbz5n2kfra8p0\\LocalCache\\local-packages\\Python312\\site-packages\\xgboost\\core.py:158: UserWarning: [16:15:04] WARNING: C:\\buildkite-agent\\builds\\buildkite-windows-cpu-autoscaling-group-i-0ed59c031377d09b8-1\\xgboost\\xgboost-ci-windows\\src\\learner.cc:740: \n",
      "Parameters: { \"use_label_encoder\" } are not used.\n",
      "\n",
      "  warnings.warn(smsg, UserWarning)\n",
      "C:\\Users\\kanat\\AppData\\Local\\Packages\\PythonSoftwareFoundation.Python.3.12_qbz5n2kfra8p0\\LocalCache\\local-packages\\Python312\\site-packages\\xgboost\\core.py:158: UserWarning: [16:15:23] WARNING: C:\\buildkite-agent\\builds\\buildkite-windows-cpu-autoscaling-group-i-0ed59c031377d09b8-1\\xgboost\\xgboost-ci-windows\\src\\learner.cc:740: \n",
      "Parameters: { \"use_label_encoder\" } are not used.\n",
      "\n",
      "  warnings.warn(smsg, UserWarning)\n",
      "C:\\Users\\kanat\\AppData\\Local\\Packages\\PythonSoftwareFoundation.Python.3.12_qbz5n2kfra8p0\\LocalCache\\local-packages\\Python312\\site-packages\\xgboost\\core.py:158: UserWarning: [16:15:43] WARNING: C:\\buildkite-agent\\builds\\buildkite-windows-cpu-autoscaling-group-i-0ed59c031377d09b8-1\\xgboost\\xgboost-ci-windows\\src\\learner.cc:740: \n",
      "Parameters: { \"use_label_encoder\" } are not used.\n",
      "\n",
      "  warnings.warn(smsg, UserWarning)\n",
      "C:\\Users\\kanat\\AppData\\Local\\Packages\\PythonSoftwareFoundation.Python.3.12_qbz5n2kfra8p0\\LocalCache\\local-packages\\Python312\\site-packages\\xgboost\\core.py:158: UserWarning: [16:16:12] WARNING: C:\\buildkite-agent\\builds\\buildkite-windows-cpu-autoscaling-group-i-0ed59c031377d09b8-1\\xgboost\\xgboost-ci-windows\\src\\learner.cc:740: \n",
      "Parameters: { \"use_label_encoder\" } are not used.\n",
      "\n",
      "  warnings.warn(smsg, UserWarning)\n",
      "C:\\Users\\kanat\\AppData\\Local\\Packages\\PythonSoftwareFoundation.Python.3.12_qbz5n2kfra8p0\\LocalCache\\local-packages\\Python312\\site-packages\\xgboost\\core.py:158: UserWarning: [16:16:41] WARNING: C:\\buildkite-agent\\builds\\buildkite-windows-cpu-autoscaling-group-i-0ed59c031377d09b8-1\\xgboost\\xgboost-ci-windows\\src\\learner.cc:740: \n",
      "Parameters: { \"use_label_encoder\" } are not used.\n",
      "\n",
      "  warnings.warn(smsg, UserWarning)\n",
      "C:\\Users\\kanat\\AppData\\Local\\Packages\\PythonSoftwareFoundation.Python.3.12_qbz5n2kfra8p0\\LocalCache\\local-packages\\Python312\\site-packages\\xgboost\\core.py:158: UserWarning: [16:17:11] WARNING: C:\\buildkite-agent\\builds\\buildkite-windows-cpu-autoscaling-group-i-0ed59c031377d09b8-1\\xgboost\\xgboost-ci-windows\\src\\learner.cc:740: \n",
      "Parameters: { \"use_label_encoder\" } are not used.\n",
      "\n",
      "  warnings.warn(smsg, UserWarning)\n",
      "C:\\Users\\kanat\\AppData\\Local\\Packages\\PythonSoftwareFoundation.Python.3.12_qbz5n2kfra8p0\\LocalCache\\local-packages\\Python312\\site-packages\\xgboost\\core.py:158: UserWarning: [16:17:47] WARNING: C:\\buildkite-agent\\builds\\buildkite-windows-cpu-autoscaling-group-i-0ed59c031377d09b8-1\\xgboost\\xgboost-ci-windows\\src\\learner.cc:740: \n",
      "Parameters: { \"use_label_encoder\" } are not used.\n",
      "\n",
      "  warnings.warn(smsg, UserWarning)\n",
      "C:\\Users\\kanat\\AppData\\Local\\Packages\\PythonSoftwareFoundation.Python.3.12_qbz5n2kfra8p0\\LocalCache\\local-packages\\Python312\\site-packages\\xgboost\\core.py:158: UserWarning: [16:18:24] WARNING: C:\\buildkite-agent\\builds\\buildkite-windows-cpu-autoscaling-group-i-0ed59c031377d09b8-1\\xgboost\\xgboost-ci-windows\\src\\learner.cc:740: \n",
      "Parameters: { \"use_label_encoder\" } are not used.\n",
      "\n",
      "  warnings.warn(smsg, UserWarning)\n",
      "C:\\Users\\kanat\\AppData\\Local\\Packages\\PythonSoftwareFoundation.Python.3.12_qbz5n2kfra8p0\\LocalCache\\local-packages\\Python312\\site-packages\\xgboost\\core.py:158: UserWarning: [16:19:01] WARNING: C:\\buildkite-agent\\builds\\buildkite-windows-cpu-autoscaling-group-i-0ed59c031377d09b8-1\\xgboost\\xgboost-ci-windows\\src\\learner.cc:740: \n",
      "Parameters: { \"use_label_encoder\" } are not used.\n",
      "\n",
      "  warnings.warn(smsg, UserWarning)\n"
     ]
    },
    {
     "name": "stdout",
     "output_type": "stream",
     "text": [
      "Best Parameters: {'learning_rate': 0.1, 'max_depth': 6, 'n_estimators': 150, 'num_class': 20, 'objective': 'multi:softmax'}\n",
      "Best Cross-Validation Accuracy: 0.6466131907308378\n",
      "Validation Accuracy: 0.6556016597510373\n",
      "Test Accuracy: 0.7130977130977131\n"
     ]
    }
   ],
   "source": [
    "import xgboost as xgb\n",
    "from sklearn.feature_extraction.text import TfidfVectorizer\n",
    "from sklearn.model_selection import GridSearchCV\n",
    "from sklearn.metrics import accuracy_score\n",
    "from sklearn.preprocessing import LabelEncoder\n",
    "from xgboost import XGBClassifier\n",
    "\n",
    "# Encode target labels\n",
    "label_encoder = LabelEncoder()\n",
    "y_train_encoded = label_encoder.fit_transform(X_train[\"Artist\"])\n",
    "y_dev_encoded = label_encoder.transform(X_dev[\"Artist\"])\n",
    "y_test_encoded = label_encoder.transform(X_test[\"Artist\"])\n",
    "\n",
    "# Define the parameter grid\n",
    "param_grid = {\n",
    "    'max_depth': [4, 6, 8],\n",
    "    'learning_rate': [0.1, 0.3, 0.5],\n",
    "    'n_estimators': [50, 100, 150],\n",
    "    'objective': ['multi:softmax'],\n",
    "    'num_class': [len(label_encoder.classes_)]\n",
    "}\n",
    "\n",
    "# Initialize XGBClassifier\n",
    "xgb_model = XGBClassifier(use_label_encoder=False, eval_metric='mlogloss')\n",
    "\n",
    "# Perform Grid Search with cross-validation\n",
    "grid_search = GridSearchCV(estimator=xgb_model, param_grid=param_grid, cv=3, scoring='accuracy')\n",
    "grid_search.fit(X_train_tfidf, y_train_encoded)\n",
    "\n",
    "# Print best parameters and best score\n",
    "print(\"Best Parameters:\", grid_search.best_params_)\n",
    "print(\"Best Cross-Validation Accuracy:\", grid_search.best_score_)\n",
    "\n",
    "# Evaluate the model on the development set with the best parameters\n",
    "best_model = grid_search.best_estimator_\n",
    "dev_predictions = best_model.predict(X_dev_tfidf)\n",
    "dev_accuracy = accuracy_score(y_dev_encoded, dev_predictions)\n",
    "print(\"Validation Accuracy:\", dev_accuracy)\n",
    "\n",
    "# Test the model on the test set\n",
    "test_predictions = best_model.predict(X_test_tfidf)\n",
    "test_accuracy = accuracy_score(y_test_encoded, test_predictions)\n",
    "print(\"Test Accuracy:\", test_accuracy)\n"
   ]
  },
  {
   "cell_type": "code",
   "execution_count": 108,
   "metadata": {
    "id": "CZPRb_EBT5HG"
   },
   "outputs": [
    {
     "name": "stderr",
     "output_type": "stream",
     "text": [
      "C:\\Users\\kanat\\AppData\\Local\\Packages\\PythonSoftwareFoundation.Python.3.12_qbz5n2kfra8p0\\LocalCache\\local-packages\\Python312\\site-packages\\keras\\src\\layers\\core\\dense.py:87: UserWarning: Do not pass an `input_shape`/`input_dim` argument to a layer. When using Sequential models, prefer using an `Input(shape)` object as the first layer in the model instead.\n",
      "  super().__init__(activity_regularizer=activity_regularizer, **kwargs)\n"
     ]
    },
    {
     "name": "stdout",
     "output_type": "stream",
     "text": [
      "Epoch 1/100\n",
      "\u001b[1m71/71\u001b[0m \u001b[32m━━━━━━━━━━━━━━━━━━━━\u001b[0m\u001b[37m\u001b[0m \u001b[1m6s\u001b[0m 39ms/step - accuracy: 0.0772 - loss: 2.9558 - val_accuracy: 0.0975 - val_loss: 2.8376\n",
      "Epoch 2/100\n",
      "\u001b[1m71/71\u001b[0m \u001b[32m━━━━━━━━━━━━━━━━━━━━\u001b[0m\u001b[37m\u001b[0m \u001b[1m3s\u001b[0m 36ms/step - accuracy: 0.0983 - loss: 2.7921 - val_accuracy: 0.1805 - val_loss: 2.6634\n",
      "Epoch 3/100\n",
      "\u001b[1m71/71\u001b[0m \u001b[32m━━━━━━━━━━━━━━━━━━━━\u001b[0m\u001b[37m\u001b[0m \u001b[1m3s\u001b[0m 42ms/step - accuracy: 0.1453 - loss: 2.6526 - val_accuracy: 0.1701 - val_loss: 2.5680\n",
      "Epoch 4/100\n",
      "\u001b[1m71/71\u001b[0m \u001b[32m━━━━━━━━━━━━━━━━━━━━\u001b[0m\u001b[37m\u001b[0m \u001b[1m3s\u001b[0m 45ms/step - accuracy: 0.1572 - loss: 2.5179 - val_accuracy: 0.1950 - val_loss: 2.5108\n",
      "Epoch 5/100\n",
      "\u001b[1m71/71\u001b[0m \u001b[32m━━━━━━━━━━━━━━━━━━━━\u001b[0m\u001b[37m\u001b[0m \u001b[1m5s\u001b[0m 39ms/step - accuracy: 0.1648 - loss: 2.3868 - val_accuracy: 0.2095 - val_loss: 2.3989\n",
      "Epoch 6/100\n",
      "\u001b[1m71/71\u001b[0m \u001b[32m━━━━━━━━━━━━━━━━━━━━\u001b[0m\u001b[37m\u001b[0m \u001b[1m3s\u001b[0m 43ms/step - accuracy: 0.1882 - loss: 2.3238 - val_accuracy: 0.2261 - val_loss: 2.3431\n",
      "Epoch 7/100\n",
      "\u001b[1m71/71\u001b[0m \u001b[32m━━━━━━━━━━━━━━━━━━━━\u001b[0m\u001b[37m\u001b[0m \u001b[1m3s\u001b[0m 43ms/step - accuracy: 0.2424 - loss: 2.1965 - val_accuracy: 0.2448 - val_loss: 2.3237\n",
      "Epoch 8/100\n",
      "\u001b[1m71/71\u001b[0m \u001b[32m━━━━━━━━━━━━━━━━━━━━\u001b[0m\u001b[37m\u001b[0m \u001b[1m3s\u001b[0m 42ms/step - accuracy: 0.2754 - loss: 2.1085 - val_accuracy: 0.2573 - val_loss: 2.2940\n",
      "Epoch 9/100\n",
      "\u001b[1m71/71\u001b[0m \u001b[32m━━━━━━━━━━━━━━━━━━━━\u001b[0m\u001b[37m\u001b[0m \u001b[1m3s\u001b[0m 44ms/step - accuracy: 0.2964 - loss: 1.9785 - val_accuracy: 0.2842 - val_loss: 2.2303\n",
      "Epoch 10/100\n",
      "\u001b[1m71/71\u001b[0m \u001b[32m━━━━━━━━━━━━━━━━━━━━\u001b[0m\u001b[37m\u001b[0m \u001b[1m3s\u001b[0m 42ms/step - accuracy: 0.3274 - loss: 1.8902 - val_accuracy: 0.3174 - val_loss: 2.1915\n",
      "Epoch 11/100\n",
      "\u001b[1m71/71\u001b[0m \u001b[32m━━━━━━━━━━━━━━━━━━━━\u001b[0m\u001b[37m\u001b[0m \u001b[1m3s\u001b[0m 42ms/step - accuracy: 0.3423 - loss: 1.8433 - val_accuracy: 0.3631 - val_loss: 2.2184\n",
      "Epoch 12/100\n",
      "\u001b[1m71/71\u001b[0m \u001b[32m━━━━━━━━━━━━━━━━━━━━\u001b[0m\u001b[37m\u001b[0m \u001b[1m3s\u001b[0m 45ms/step - accuracy: 0.3679 - loss: 1.7825 - val_accuracy: 0.3506 - val_loss: 2.1036\n",
      "Epoch 13/100\n",
      "\u001b[1m71/71\u001b[0m \u001b[32m━━━━━━━━━━━━━━━━━━━━\u001b[0m\u001b[37m\u001b[0m \u001b[1m3s\u001b[0m 42ms/step - accuracy: 0.3853 - loss: 1.7356 - val_accuracy: 0.3651 - val_loss: 2.0792\n",
      "Epoch 14/100\n",
      "\u001b[1m71/71\u001b[0m \u001b[32m━━━━━━━━━━━━━━━━━━━━\u001b[0m\u001b[37m\u001b[0m \u001b[1m3s\u001b[0m 40ms/step - accuracy: 0.4204 - loss: 1.6242 - val_accuracy: 0.3817 - val_loss: 2.0675\n",
      "Epoch 15/100\n",
      "\u001b[1m71/71\u001b[0m \u001b[32m━━━━━━━━━━━━━━━━━━━━\u001b[0m\u001b[37m\u001b[0m \u001b[1m3s\u001b[0m 40ms/step - accuracy: 0.4138 - loss: 1.6461 - val_accuracy: 0.3983 - val_loss: 2.0638\n",
      "Epoch 16/100\n",
      "\u001b[1m71/71\u001b[0m \u001b[32m━━━━━━━━━━━━━━━━━━━━\u001b[0m\u001b[37m\u001b[0m \u001b[1m3s\u001b[0m 40ms/step - accuracy: 0.4306 - loss: 1.6268 - val_accuracy: 0.4046 - val_loss: 2.0215\n",
      "Epoch 17/100\n",
      "\u001b[1m71/71\u001b[0m \u001b[32m━━━━━━━━━━━━━━━━━━━━\u001b[0m\u001b[37m\u001b[0m \u001b[1m3s\u001b[0m 41ms/step - accuracy: 0.4532 - loss: 1.5184 - val_accuracy: 0.3963 - val_loss: 2.0317\n",
      "Epoch 18/100\n",
      "\u001b[1m71/71\u001b[0m \u001b[32m━━━━━━━━━━━━━━━━━━━━\u001b[0m\u001b[37m\u001b[0m \u001b[1m3s\u001b[0m 42ms/step - accuracy: 0.4986 - loss: 1.4760 - val_accuracy: 0.4149 - val_loss: 1.9350\n",
      "Epoch 19/100\n",
      "\u001b[1m71/71\u001b[0m \u001b[32m━━━━━━━━━━━━━━━━━━━━\u001b[0m\u001b[37m\u001b[0m \u001b[1m3s\u001b[0m 42ms/step - accuracy: 0.5401 - loss: 1.3973 - val_accuracy: 0.4315 - val_loss: 1.9599\n",
      "Epoch 20/100\n",
      "\u001b[1m71/71\u001b[0m \u001b[32m━━━━━━━━━━━━━━━━━━━━\u001b[0m\u001b[37m\u001b[0m \u001b[1m3s\u001b[0m 40ms/step - accuracy: 0.5087 - loss: 1.3851 - val_accuracy: 0.4419 - val_loss: 1.9994\n",
      "Epoch 21/100\n",
      "\u001b[1m71/71\u001b[0m \u001b[32m━━━━━━━━━━━━━━━━━━━━\u001b[0m\u001b[37m\u001b[0m \u001b[1m3s\u001b[0m 45ms/step - accuracy: 0.5327 - loss: 1.3650 - val_accuracy: 0.4419 - val_loss: 2.0269\n",
      "Epoch 22/100\n",
      "\u001b[1m71/71\u001b[0m \u001b[32m━━━━━━━━━━━━━━━━━━━━\u001b[0m\u001b[37m\u001b[0m \u001b[1m3s\u001b[0m 44ms/step - accuracy: 0.5255 - loss: 1.3368 - val_accuracy: 0.4627 - val_loss: 1.9143\n",
      "Epoch 23/100\n",
      "\u001b[1m71/71\u001b[0m \u001b[32m━━━━━━━━━━━━━━━━━━━━\u001b[0m\u001b[37m\u001b[0m \u001b[1m3s\u001b[0m 41ms/step - accuracy: 0.5930 - loss: 1.2252 - val_accuracy: 0.4481 - val_loss: 2.0046\n",
      "Epoch 24/100\n",
      "\u001b[1m71/71\u001b[0m \u001b[32m━━━━━━━━━━━━━━━━━━━━\u001b[0m\u001b[37m\u001b[0m \u001b[1m3s\u001b[0m 43ms/step - accuracy: 0.5853 - loss: 1.2456 - val_accuracy: 0.4730 - val_loss: 1.9340\n",
      "Epoch 25/100\n",
      "\u001b[1m71/71\u001b[0m \u001b[32m━━━━━━━━━━━━━━━━━━━━\u001b[0m\u001b[37m\u001b[0m \u001b[1m3s\u001b[0m 42ms/step - accuracy: 0.5776 - loss: 1.2179 - val_accuracy: 0.4585 - val_loss: 1.9632\n",
      "Epoch 26/100\n",
      "\u001b[1m71/71\u001b[0m \u001b[32m━━━━━━━━━━━━━━━━━━━━\u001b[0m\u001b[37m\u001b[0m \u001b[1m3s\u001b[0m 42ms/step - accuracy: 0.5898 - loss: 1.1635 - val_accuracy: 0.4793 - val_loss: 1.9528\n",
      "Epoch 27/100\n",
      "\u001b[1m71/71\u001b[0m \u001b[32m━━━━━━━━━━━━━━━━━━━━\u001b[0m\u001b[37m\u001b[0m \u001b[1m3s\u001b[0m 42ms/step - accuracy: 0.6340 - loss: 1.0810 - val_accuracy: 0.4730 - val_loss: 2.0333\n",
      "Epoch 28/100\n",
      "\u001b[1m71/71\u001b[0m \u001b[32m━━━━━━━━━━━━━━━━━━━━\u001b[0m\u001b[37m\u001b[0m \u001b[1m3s\u001b[0m 42ms/step - accuracy: 0.6248 - loss: 1.0961 - val_accuracy: 0.4834 - val_loss: 2.0627\n",
      "Epoch 29/100\n",
      "\u001b[1m71/71\u001b[0m \u001b[32m━━━━━━━━━━━━━━━━━━━━\u001b[0m\u001b[37m\u001b[0m \u001b[1m3s\u001b[0m 42ms/step - accuracy: 0.6357 - loss: 1.0861 - val_accuracy: 0.4855 - val_loss: 2.0234\n",
      "Epoch 30/100\n",
      "\u001b[1m71/71\u001b[0m \u001b[32m━━━━━━━━━━━━━━━━━━━━\u001b[0m\u001b[37m\u001b[0m \u001b[1m3s\u001b[0m 41ms/step - accuracy: 0.6472 - loss: 1.0194 - val_accuracy: 0.4855 - val_loss: 2.1093\n",
      "Epoch 31/100\n",
      "\u001b[1m71/71\u001b[0m \u001b[32m━━━━━━━━━━━━━━━━━━━━\u001b[0m\u001b[37m\u001b[0m \u001b[1m3s\u001b[0m 39ms/step - accuracy: 0.6591 - loss: 0.9861 - val_accuracy: 0.4772 - val_loss: 2.2058\n",
      "Epoch 32/100\n",
      "\u001b[1m71/71\u001b[0m \u001b[32m━━━━━━━━━━━━━━━━━━━━\u001b[0m\u001b[37m\u001b[0m \u001b[1m3s\u001b[0m 40ms/step - accuracy: 0.6485 - loss: 1.0065 - val_accuracy: 0.4751 - val_loss: 2.1357\n",
      "Epoch 33/100\n",
      "\u001b[1m71/71\u001b[0m \u001b[32m━━━━━━━━━━━━━━━━━━━━\u001b[0m\u001b[37m\u001b[0m \u001b[1m3s\u001b[0m 39ms/step - accuracy: 0.6517 - loss: 0.9810 - val_accuracy: 0.4896 - val_loss: 2.1752\n",
      "Epoch 34/100\n",
      "\u001b[1m71/71\u001b[0m \u001b[32m━━━━━━━━━━━━━━━━━━━━\u001b[0m\u001b[37m\u001b[0m \u001b[1m3s\u001b[0m 38ms/step - accuracy: 0.6811 - loss: 0.9346 - val_accuracy: 0.4834 - val_loss: 2.2045\n",
      "Epoch 35/100\n",
      "\u001b[1m71/71\u001b[0m \u001b[32m━━━━━━━━━━━━━━━━━━━━\u001b[0m\u001b[37m\u001b[0m \u001b[1m3s\u001b[0m 39ms/step - accuracy: 0.6816 - loss: 0.9228 - val_accuracy: 0.4793 - val_loss: 2.2425\n",
      "Epoch 36/100\n",
      "\u001b[1m71/71\u001b[0m \u001b[32m━━━━━━━━━━━━━━━━━━━━\u001b[0m\u001b[37m\u001b[0m \u001b[1m5s\u001b[0m 38ms/step - accuracy: 0.6781 - loss: 0.8966 - val_accuracy: 0.4751 - val_loss: 2.2370\n",
      "Epoch 37/100\n",
      "\u001b[1m71/71\u001b[0m \u001b[32m━━━━━━━━━━━━━━━━━━━━\u001b[0m\u001b[37m\u001b[0m \u001b[1m3s\u001b[0m 39ms/step - accuracy: 0.6889 - loss: 0.8959 - val_accuracy: 0.4896 - val_loss: 2.2197\n",
      "Epoch 38/100\n",
      "\u001b[1m71/71\u001b[0m \u001b[32m━━━━━━━━━━━━━━━━━━━━\u001b[0m\u001b[37m\u001b[0m \u001b[1m3s\u001b[0m 41ms/step - accuracy: 0.6804 - loss: 0.8898 - val_accuracy: 0.4876 - val_loss: 2.2374\n",
      "Epoch 39/100\n",
      "\u001b[1m71/71\u001b[0m \u001b[32m━━━━━━━━━━━━━━━━━━━━\u001b[0m\u001b[37m\u001b[0m \u001b[1m3s\u001b[0m 37ms/step - accuracy: 0.6948 - loss: 0.8839 - val_accuracy: 0.4813 - val_loss: 2.2915\n",
      "Epoch 40/100\n",
      "\u001b[1m71/71\u001b[0m \u001b[32m━━━━━━━━━━━━━━━━━━━━\u001b[0m\u001b[37m\u001b[0m \u001b[1m3s\u001b[0m 37ms/step - accuracy: 0.6919 - loss: 0.8274 - val_accuracy: 0.5083 - val_loss: 2.2956\n",
      "Epoch 41/100\n",
      "\u001b[1m71/71\u001b[0m \u001b[32m━━━━━━━━━━━━━━━━━━━━\u001b[0m\u001b[37m\u001b[0m \u001b[1m3s\u001b[0m 39ms/step - accuracy: 0.6913 - loss: 0.8999 - val_accuracy: 0.4710 - val_loss: 2.4527\n",
      "Epoch 42/100\n",
      "\u001b[1m71/71\u001b[0m \u001b[32m━━━━━━━━━━━━━━━━━━━━\u001b[0m\u001b[37m\u001b[0m \u001b[1m3s\u001b[0m 40ms/step - accuracy: 0.7212 - loss: 0.7927 - val_accuracy: 0.5000 - val_loss: 2.3273\n",
      "Epoch 43/100\n",
      "\u001b[1m71/71\u001b[0m \u001b[32m━━━━━━━━━━━━━━━━━━━━\u001b[0m\u001b[37m\u001b[0m \u001b[1m3s\u001b[0m 38ms/step - accuracy: 0.7030 - loss: 0.8253 - val_accuracy: 0.4730 - val_loss: 2.4977\n",
      "Epoch 44/100\n",
      "\u001b[1m71/71\u001b[0m \u001b[32m━━━━━━━━━━━━━━━━━━━━\u001b[0m\u001b[37m\u001b[0m \u001b[1m3s\u001b[0m 39ms/step - accuracy: 0.7218 - loss: 0.7732 - val_accuracy: 0.5021 - val_loss: 2.4338\n",
      "Epoch 45/100\n",
      "\u001b[1m71/71\u001b[0m \u001b[32m━━━━━━━━━━━━━━━━━━━━\u001b[0m\u001b[37m\u001b[0m \u001b[1m3s\u001b[0m 41ms/step - accuracy: 0.7195 - loss: 0.7824 - val_accuracy: 0.5041 - val_loss: 2.3789\n",
      "Epoch 46/100\n",
      "\u001b[1m71/71\u001b[0m \u001b[32m━━━━━━━━━━━━━━━━━━━━\u001b[0m\u001b[37m\u001b[0m \u001b[1m3s\u001b[0m 39ms/step - accuracy: 0.7325 - loss: 0.7558 - val_accuracy: 0.4938 - val_loss: 2.4986\n",
      "Epoch 47/100\n",
      "\u001b[1m71/71\u001b[0m \u001b[32m━━━━━━━━━━━━━━━━━━━━\u001b[0m\u001b[37m\u001b[0m \u001b[1m3s\u001b[0m 41ms/step - accuracy: 0.7163 - loss: 0.8232 - val_accuracy: 0.4813 - val_loss: 2.5326\n",
      "Epoch 48/100\n",
      "\u001b[1m71/71\u001b[0m \u001b[32m━━━━━━━━━━━━━━━━━━━━\u001b[0m\u001b[37m\u001b[0m \u001b[1m3s\u001b[0m 38ms/step - accuracy: 0.7268 - loss: 0.7746 - val_accuracy: 0.4979 - val_loss: 2.4821\n",
      "Epoch 49/100\n",
      "\u001b[1m71/71\u001b[0m \u001b[32m━━━━━━━━━━━━━━━━━━━━\u001b[0m\u001b[37m\u001b[0m \u001b[1m3s\u001b[0m 40ms/step - accuracy: 0.7197 - loss: 0.7611 - val_accuracy: 0.5021 - val_loss: 2.4290\n",
      "Epoch 50/100\n",
      "\u001b[1m71/71\u001b[0m \u001b[32m━━━━━━━━━━━━━━━━━━━━\u001b[0m\u001b[37m\u001b[0m \u001b[1m3s\u001b[0m 38ms/step - accuracy: 0.7391 - loss: 0.7435 - val_accuracy: 0.5145 - val_loss: 2.4389\n",
      "Epoch 51/100\n",
      "\u001b[1m71/71\u001b[0m \u001b[32m━━━━━━━━━━━━━━━━━━━━\u001b[0m\u001b[37m\u001b[0m \u001b[1m3s\u001b[0m 37ms/step - accuracy: 0.7360 - loss: 0.7508 - val_accuracy: 0.5083 - val_loss: 2.5178\n",
      "Epoch 52/100\n",
      "\u001b[1m71/71\u001b[0m \u001b[32m━━━━━━━━━━━━━━━━━━━━\u001b[0m\u001b[37m\u001b[0m \u001b[1m3s\u001b[0m 37ms/step - accuracy: 0.7163 - loss: 0.7434 - val_accuracy: 0.5083 - val_loss: 2.4860\n",
      "Epoch 53/100\n",
      "\u001b[1m71/71\u001b[0m \u001b[32m━━━━━━━━━━━━━━━━━━━━\u001b[0m\u001b[37m\u001b[0m \u001b[1m3s\u001b[0m 43ms/step - accuracy: 0.7451 - loss: 0.6840 - val_accuracy: 0.5021 - val_loss: 2.6136\n",
      "Epoch 54/100\n",
      "\u001b[1m71/71\u001b[0m \u001b[32m━━━━━━━━━━━━━━━━━━━━\u001b[0m\u001b[37m\u001b[0m \u001b[1m3s\u001b[0m 38ms/step - accuracy: 0.7510 - loss: 0.6935 - val_accuracy: 0.4979 - val_loss: 2.6831\n",
      "Epoch 55/100\n",
      "\u001b[1m71/71\u001b[0m \u001b[32m━━━━━━━━━━━━━━━━━━━━\u001b[0m\u001b[37m\u001b[0m \u001b[1m5s\u001b[0m 39ms/step - accuracy: 0.7252 - loss: 0.7244 - val_accuracy: 0.4979 - val_loss: 2.6226\n",
      "Epoch 56/100\n",
      "\u001b[1m71/71\u001b[0m \u001b[32m━━━━━━━━━━━━━━━━━━━━\u001b[0m\u001b[37m\u001b[0m \u001b[1m3s\u001b[0m 40ms/step - accuracy: 0.7368 - loss: 0.6998 - val_accuracy: 0.5166 - val_loss: 2.5918\n",
      "Epoch 57/100\n",
      "\u001b[1m71/71\u001b[0m \u001b[32m━━━━━━━━━━━━━━━━━━━━\u001b[0m\u001b[37m\u001b[0m \u001b[1m3s\u001b[0m 41ms/step - accuracy: 0.7636 - loss: 0.6561 - val_accuracy: 0.5124 - val_loss: 2.6414\n",
      "Epoch 58/100\n",
      "\u001b[1m71/71\u001b[0m \u001b[32m━━━━━━━━━━━━━━━━━━━━\u001b[0m\u001b[37m\u001b[0m \u001b[1m3s\u001b[0m 39ms/step - accuracy: 0.7288 - loss: 0.7667 - val_accuracy: 0.5021 - val_loss: 2.6793\n",
      "Epoch 59/100\n",
      "\u001b[1m71/71\u001b[0m \u001b[32m━━━━━━━━━━━━━━━━━━━━\u001b[0m\u001b[37m\u001b[0m \u001b[1m3s\u001b[0m 39ms/step - accuracy: 0.7772 - loss: 0.6588 - val_accuracy: 0.5000 - val_loss: 2.6650\n",
      "Epoch 60/100\n",
      "\u001b[1m71/71\u001b[0m \u001b[32m━━━━━━━━━━━━━━━━━━━━\u001b[0m\u001b[37m\u001b[0m \u001b[1m3s\u001b[0m 40ms/step - accuracy: 0.7547 - loss: 0.6521 - val_accuracy: 0.5062 - val_loss: 2.6073\n",
      "Epoch 61/100\n",
      "\u001b[1m71/71\u001b[0m \u001b[32m━━━━━━━━━━━━━━━━━━━━\u001b[0m\u001b[37m\u001b[0m \u001b[1m3s\u001b[0m 38ms/step - accuracy: 0.7622 - loss: 0.6391 - val_accuracy: 0.5104 - val_loss: 2.7218\n",
      "Epoch 62/100\n",
      "\u001b[1m71/71\u001b[0m \u001b[32m━━━━━━━━━━━━━━━━━━━━\u001b[0m\u001b[37m\u001b[0m \u001b[1m3s\u001b[0m 41ms/step - accuracy: 0.7484 - loss: 0.6688 - val_accuracy: 0.5249 - val_loss: 2.5559\n",
      "Epoch 63/100\n",
      "\u001b[1m71/71\u001b[0m \u001b[32m━━━━━━━━━━━━━━━━━━━━\u001b[0m\u001b[37m\u001b[0m \u001b[1m5s\u001b[0m 40ms/step - accuracy: 0.7662 - loss: 0.6092 - val_accuracy: 0.5270 - val_loss: 2.6345\n",
      "Epoch 64/100\n",
      "\u001b[1m71/71\u001b[0m \u001b[32m━━━━━━━━━━━━━━━━━━━━\u001b[0m\u001b[37m\u001b[0m \u001b[1m3s\u001b[0m 38ms/step - accuracy: 0.7617 - loss: 0.6502 - val_accuracy: 0.5311 - val_loss: 2.7144\n",
      "Epoch 65/100\n",
      "\u001b[1m71/71\u001b[0m \u001b[32m━━━━━━━━━━━━━━━━━━━━\u001b[0m\u001b[37m\u001b[0m \u001b[1m3s\u001b[0m 43ms/step - accuracy: 0.7546 - loss: 0.6691 - val_accuracy: 0.5228 - val_loss: 2.6958\n",
      "Epoch 66/100\n",
      "\u001b[1m71/71\u001b[0m \u001b[32m━━━━━━━━━━━━━━━━━━━━\u001b[0m\u001b[37m\u001b[0m \u001b[1m3s\u001b[0m 42ms/step - accuracy: 0.7687 - loss: 0.6198 - val_accuracy: 0.5249 - val_loss: 2.7476\n",
      "Epoch 67/100\n",
      "\u001b[1m71/71\u001b[0m \u001b[32m━━━━━━━━━━━━━━━━━━━━\u001b[0m\u001b[37m\u001b[0m \u001b[1m3s\u001b[0m 39ms/step - accuracy: 0.7679 - loss: 0.6434 - val_accuracy: 0.5311 - val_loss: 2.6958\n",
      "Epoch 68/100\n",
      "\u001b[1m71/71\u001b[0m \u001b[32m━━━━━━━━━━━━━━━━━━━━\u001b[0m\u001b[37m\u001b[0m \u001b[1m3s\u001b[0m 40ms/step - accuracy: 0.7665 - loss: 0.6878 - val_accuracy: 0.5228 - val_loss: 2.7779\n",
      "Epoch 69/100\n",
      "\u001b[1m71/71\u001b[0m \u001b[32m━━━━━━━━━━━━━━━━━━━━\u001b[0m\u001b[37m\u001b[0m \u001b[1m3s\u001b[0m 38ms/step - accuracy: 0.7759 - loss: 0.5738 - val_accuracy: 0.5290 - val_loss: 2.9002\n",
      "Epoch 70/100\n",
      "\u001b[1m71/71\u001b[0m \u001b[32m━━━━━━━━━━━━━━━━━━━━\u001b[0m\u001b[37m\u001b[0m \u001b[1m3s\u001b[0m 37ms/step - accuracy: 0.7579 - loss: 0.5967 - val_accuracy: 0.5270 - val_loss: 2.9996\n",
      "Epoch 71/100\n",
      "\u001b[1m71/71\u001b[0m \u001b[32m━━━━━━━━━━━━━━━━━━━━\u001b[0m\u001b[37m\u001b[0m \u001b[1m3s\u001b[0m 37ms/step - accuracy: 0.7527 - loss: 0.6105 - val_accuracy: 0.5332 - val_loss: 2.8720\n",
      "Epoch 72/100\n",
      "\u001b[1m71/71\u001b[0m \u001b[32m━━━━━━━━━━━━━━━━━━━━\u001b[0m\u001b[37m\u001b[0m \u001b[1m3s\u001b[0m 39ms/step - accuracy: 0.7798 - loss: 0.6081 - val_accuracy: 0.5207 - val_loss: 2.8507\n",
      "Epoch 73/100\n",
      "\u001b[1m71/71\u001b[0m \u001b[32m━━━━━━━━━━━━━━━━━━━━\u001b[0m\u001b[37m\u001b[0m \u001b[1m3s\u001b[0m 37ms/step - accuracy: 0.7748 - loss: 0.5830 - val_accuracy: 0.5124 - val_loss: 2.8920\n",
      "Epoch 74/100\n",
      "\u001b[1m71/71\u001b[0m \u001b[32m━━━━━━━━━━━━━━━━━━━━\u001b[0m\u001b[37m\u001b[0m \u001b[1m3s\u001b[0m 37ms/step - accuracy: 0.8060 - loss: 0.5574 - val_accuracy: 0.5207 - val_loss: 2.7513\n",
      "Epoch 75/100\n",
      "\u001b[1m71/71\u001b[0m \u001b[32m━━━━━━━━━━━━━━━━━━━━\u001b[0m\u001b[37m\u001b[0m \u001b[1m3s\u001b[0m 37ms/step - accuracy: 0.7897 - loss: 0.5942 - val_accuracy: 0.5290 - val_loss: 2.9002\n",
      "Epoch 76/100\n",
      "\u001b[1m71/71\u001b[0m \u001b[32m━━━━━━━━━━━━━━━━━━━━\u001b[0m\u001b[37m\u001b[0m \u001b[1m3s\u001b[0m 41ms/step - accuracy: 0.7597 - loss: 0.6175 - val_accuracy: 0.5207 - val_loss: 2.8637\n",
      "Epoch 77/100\n",
      "\u001b[1m71/71\u001b[0m \u001b[32m━━━━━━━━━━━━━━━━━━━━\u001b[0m\u001b[37m\u001b[0m \u001b[1m3s\u001b[0m 37ms/step - accuracy: 0.7751 - loss: 0.5942 - val_accuracy: 0.5062 - val_loss: 2.9363\n",
      "Epoch 78/100\n",
      "\u001b[1m71/71\u001b[0m \u001b[32m━━━━━━━━━━━━━━━━━━━━\u001b[0m\u001b[37m\u001b[0m \u001b[1m3s\u001b[0m 38ms/step - accuracy: 0.7665 - loss: 0.6261 - val_accuracy: 0.5207 - val_loss: 2.9300\n",
      "Epoch 79/100\n",
      "\u001b[1m71/71\u001b[0m \u001b[32m━━━━━━━━━━━━━━━━━━━━\u001b[0m\u001b[37m\u001b[0m \u001b[1m3s\u001b[0m 39ms/step - accuracy: 0.7731 - loss: 0.5853 - val_accuracy: 0.5104 - val_loss: 2.9177\n",
      "Epoch 80/100\n",
      "\u001b[1m71/71\u001b[0m \u001b[32m━━━━━━━━━━━━━━━━━━━━\u001b[0m\u001b[37m\u001b[0m \u001b[1m3s\u001b[0m 39ms/step - accuracy: 0.7982 - loss: 0.5365 - val_accuracy: 0.5187 - val_loss: 2.9267\n",
      "Epoch 81/100\n",
      "\u001b[1m71/71\u001b[0m \u001b[32m━━━━━━━━━━━━━━━━━━━━\u001b[0m\u001b[37m\u001b[0m \u001b[1m3s\u001b[0m 37ms/step - accuracy: 0.7766 - loss: 0.5396 - val_accuracy: 0.5249 - val_loss: 2.8787\n",
      "Epoch 82/100\n",
      "\u001b[1m71/71\u001b[0m \u001b[32m━━━━━━━━━━━━━━━━━━━━\u001b[0m\u001b[37m\u001b[0m \u001b[1m3s\u001b[0m 37ms/step - accuracy: 0.7958 - loss: 0.5261 - val_accuracy: 0.5207 - val_loss: 3.0388\n",
      "Epoch 83/100\n",
      "\u001b[1m71/71\u001b[0m \u001b[32m━━━━━━━━━━━━━━━━━━━━\u001b[0m\u001b[37m\u001b[0m \u001b[1m3s\u001b[0m 39ms/step - accuracy: 0.7727 - loss: 0.6106 - val_accuracy: 0.5290 - val_loss: 3.0815\n",
      "Epoch 84/100\n",
      "\u001b[1m71/71\u001b[0m \u001b[32m━━━━━━━━━━━━━━━━━━━━\u001b[0m\u001b[37m\u001b[0m \u001b[1m3s\u001b[0m 41ms/step - accuracy: 0.7821 - loss: 0.5782 - val_accuracy: 0.5124 - val_loss: 3.0825\n",
      "Epoch 85/100\n",
      "\u001b[1m71/71\u001b[0m \u001b[32m━━━━━━━━━━━━━━━━━━━━\u001b[0m\u001b[37m\u001b[0m \u001b[1m3s\u001b[0m 40ms/step - accuracy: 0.7865 - loss: 0.5827 - val_accuracy: 0.5166 - val_loss: 3.0910\n",
      "Epoch 86/100\n",
      "\u001b[1m71/71\u001b[0m \u001b[32m━━━━━━━━━━━━━━━━━━━━\u001b[0m\u001b[37m\u001b[0m \u001b[1m3s\u001b[0m 38ms/step - accuracy: 0.8054 - loss: 0.5033 - val_accuracy: 0.5083 - val_loss: 3.1618\n",
      "Epoch 87/100\n",
      "\u001b[1m71/71\u001b[0m \u001b[32m━━━━━━━━━━━━━━━━━━━━\u001b[0m\u001b[37m\u001b[0m \u001b[1m3s\u001b[0m 41ms/step - accuracy: 0.7826 - loss: 0.5707 - val_accuracy: 0.5249 - val_loss: 3.1530\n",
      "Epoch 88/100\n",
      "\u001b[1m71/71\u001b[0m \u001b[32m━━━━━━━━━━━━━━━━━━━━\u001b[0m\u001b[37m\u001b[0m \u001b[1m3s\u001b[0m 37ms/step - accuracy: 0.7978 - loss: 0.5706 - val_accuracy: 0.5228 - val_loss: 3.0583\n",
      "Epoch 89/100\n",
      "\u001b[1m71/71\u001b[0m \u001b[32m━━━━━━━━━━━━━━━━━━━━\u001b[0m\u001b[37m\u001b[0m \u001b[1m3s\u001b[0m 40ms/step - accuracy: 0.7957 - loss: 0.5485 - val_accuracy: 0.5166 - val_loss: 3.0280\n",
      "Epoch 90/100\n",
      "\u001b[1m71/71\u001b[0m \u001b[32m━━━━━━━━━━━━━━━━━━━━\u001b[0m\u001b[37m\u001b[0m \u001b[1m3s\u001b[0m 42ms/step - accuracy: 0.8007 - loss: 0.5152 - val_accuracy: 0.5166 - val_loss: 3.0630\n",
      "Epoch 91/100\n",
      "\u001b[1m71/71\u001b[0m \u001b[32m━━━━━━━━━━━━━━━━━━━━\u001b[0m\u001b[37m\u001b[0m \u001b[1m3s\u001b[0m 38ms/step - accuracy: 0.8005 - loss: 0.5834 - val_accuracy: 0.5207 - val_loss: 2.9768\n",
      "Epoch 92/100\n",
      "\u001b[1m71/71\u001b[0m \u001b[32m━━━━━━━━━━━━━━━━━━━━\u001b[0m\u001b[37m\u001b[0m \u001b[1m3s\u001b[0m 38ms/step - accuracy: 0.7989 - loss: 0.5424 - val_accuracy: 0.5394 - val_loss: 2.9918\n",
      "Epoch 93/100\n",
      "\u001b[1m71/71\u001b[0m \u001b[32m━━━━━━━━━━━━━━━━━━━━\u001b[0m\u001b[37m\u001b[0m \u001b[1m3s\u001b[0m 36ms/step - accuracy: 0.7988 - loss: 0.5299 - val_accuracy: 0.5270 - val_loss: 2.9796\n",
      "Epoch 94/100\n",
      "\u001b[1m71/71\u001b[0m \u001b[32m━━━━━━━━━━━━━━━━━━━━\u001b[0m\u001b[37m\u001b[0m \u001b[1m3s\u001b[0m 40ms/step - accuracy: 0.8015 - loss: 0.5530 - val_accuracy: 0.5290 - val_loss: 3.1187\n",
      "Epoch 95/100\n",
      "\u001b[1m71/71\u001b[0m \u001b[32m━━━━━━━━━━━━━━━━━━━━\u001b[0m\u001b[37m\u001b[0m \u001b[1m3s\u001b[0m 40ms/step - accuracy: 0.8028 - loss: 0.5703 - val_accuracy: 0.5353 - val_loss: 3.0511\n",
      "Epoch 96/100\n",
      "\u001b[1m71/71\u001b[0m \u001b[32m━━━━━━━━━━━━━━━━━━━━\u001b[0m\u001b[37m\u001b[0m \u001b[1m3s\u001b[0m 41ms/step - accuracy: 0.8131 - loss: 0.4906 - val_accuracy: 0.5270 - val_loss: 3.0556\n",
      "Epoch 97/100\n",
      "\u001b[1m71/71\u001b[0m \u001b[32m━━━━━━━━━━━━━━━━━━━━\u001b[0m\u001b[37m\u001b[0m \u001b[1m3s\u001b[0m 41ms/step - accuracy: 0.7938 - loss: 0.5308 - val_accuracy: 0.5290 - val_loss: 2.9631\n",
      "Epoch 98/100\n",
      "\u001b[1m71/71\u001b[0m \u001b[32m━━━━━━━━━━━━━━━━━━━━\u001b[0m\u001b[37m\u001b[0m \u001b[1m3s\u001b[0m 39ms/step - accuracy: 0.8174 - loss: 0.5064 - val_accuracy: 0.5311 - val_loss: 3.0942\n",
      "Epoch 99/100\n",
      "\u001b[1m71/71\u001b[0m \u001b[32m━━━━━━━━━━━━━━━━━━━━\u001b[0m\u001b[37m\u001b[0m \u001b[1m3s\u001b[0m 38ms/step - accuracy: 0.8115 - loss: 0.4787 - val_accuracy: 0.5394 - val_loss: 3.0000\n",
      "Epoch 100/100\n",
      "\u001b[1m71/71\u001b[0m \u001b[32m━━━━━━━━━━━━━━━━━━━━\u001b[0m\u001b[37m\u001b[0m \u001b[1m3s\u001b[0m 38ms/step - accuracy: 0.8001 - loss: 0.5613 - val_accuracy: 0.5228 - val_loss: 3.1296\n",
      "Test Accuracy: 55.51%\n"
     ]
    }
   ],
   "source": [
    "from keras.models import Sequential\n",
    "from keras.layers import Dense, Dropout\n",
    "from keras.optimizers import Adam\n",
    "from sklearn.preprocessing import LabelEncoder\n",
    "from keras.utils import to_categorical  # Import to_categorical directly\n",
    "from sklearn.feature_extraction.text import TfidfVectorizer\n",
    "\n",
    "# Encode target labels\n",
    "label_encoder = LabelEncoder()\n",
    "y_train_encoded = label_encoder.fit_transform(X_train[\"Artist\"])\n",
    "y_dev_encoded = label_encoder.transform(X_dev[\"Artist\"])\n",
    "y_test_encoded = label_encoder.transform(X_test[\"Artist\"])\n",
    "\n",
    "y_train_onehot = to_categorical(y_train_encoded)\n",
    "y_dev_onehot = to_categorical(y_dev_encoded)\n",
    "y_test_onehot = to_categorical(y_test_encoded)\n",
    "\n",
    "model = Sequential()\n",
    "model.add(Dense(128, input_dim=X_train_tfidf.shape[1], activation='relu'))\n",
    "model.add(Dropout(0.5))\n",
    "model.add(Dense(256, activation='relu'))\n",
    "model.add(Dropout(0.5))\n",
    "model.add(Dense(128, activation='relu'))\n",
    "model.add(Dropout(0.5))\n",
    "model.add(Dense(256, activation='relu'))\n",
    "model.add(Dropout(0.5))\n",
    "model.add(Dense(128, activation='relu'))\n",
    "model.add(Dropout(0.5))\n",
    "model.add(Dense(64, activation='relu'))\n",
    "model.add(Dropout(0.5))\n",
    "\n",
    "num_classes = y_train_onehot.shape[1]\n",
    "model.add(Dense(num_classes, activation='softmax'))\n",
    "\n",
    "model.compile(optimizer=Adam(), loss='categorical_crossentropy', metrics=['accuracy'])\n",
    "\n",
    "history = model.fit(X_train_tfidf.toarray(), y_train_onehot, \n",
    "                    validation_data=(X_dev_tfidf.toarray(), y_dev_onehot), \n",
    "                    epochs=100, batch_size=32, verbose=1)\n",
    "\n",
    "test_loss, test_accuracy = model.evaluate(X_test_tfidf.toarray(), y_test_onehot, verbose=0)\n",
    "print(f'Test Accuracy: {test_accuracy * 100:.2f}%')\n"
   ]
  },
  {
   "cell_type": "markdown",
   "metadata": {
    "id": "MUeu6klm_aU1"
   },
   "source": [
    "YOUR REPORT HERE."
   ]
  },
  {
   "cell_type": "markdown",
   "metadata": {},
   "source": [
    "## Assignment Report\n",
    "\n",
    "### Preprocessing Method\n",
    "The preprocessing method involved several steps:\n",
    "1. **Data Loading**: The song lyrics dataset was downloaded and extracted using the `zipfile` library. The CSV files were read and concatenated into a single DataFrame using `pandas`.\n",
    "2. **Data Cleaning**: Missing values were removed from the dataset.\n",
    "3. **Text Preprocessing**: Lyrics were preprocessed by removing non-alphabetic characters, splitting the text into words, and removing stopwords using the `nltk` library.\n",
    "\n",
    "### Selection of Features\n",
    "The features selected for this task were:\n",
    "1. **Bag-of-Words**: Used for the Naive Bayes classifier implementation from scratch.\n",
    "2. **TF-IDF**: Used for the XGBoost and Neural Network classifiers to transform the text data into numerical vectors.\n",
    "\n",
    "### Selection of Classification Methods\n",
    "Three classification methods were used:\n",
    "1. **Naive Bayes Classifier**: Implemented from scratch using the Maximum Likelihood Estimation (MLE) approach.\n",
    "2. **XGBoost Classifier**: A powerful gradient boosting algorithm that was optimized using Grid Search for hyperparameter tuning.\n",
    "3. **Neural Network**: A deep learning model with multiple dense layers and dropout for regularization.\n",
    "\n",
    "### Challenges Faced\n",
    "1. **Text Preprocessing**: Handling various forms of text data and ensuring consistent preprocessing across the dataset.\n",
    "2. **Naive Bayes Implementation**: Implementing the classifier from scratch required careful handling of probabilities and smoothing techniques.\n",
    "3. **Model Training**: Training the models efficiently and tuning hyperparameters to achieve the best performance. First, I used a small neural network. Then I enlarged it to a point such that overfitting began. To keep overfitting minimal, I stopped at a smaller neural network. It gave a similiar accuracy to the naive bayes for the test data. \n",
    "\n",
    "### Limitations of the Approach\n",
    "1. **Naive Bayes Assumptions**: The Naive Bayes classifier assumes independence between features, which may not hold true for text data.\n",
    "2. **Computational Resources**: Training deep learning models and performing hyperparameter tuning can be computationally expensive and time-consuming.\n",
    "3. **Data Imbalance**: The dataset may have an imbalance in the number of lyrics per artist, which can affect model performance.\n",
    "\n",
    "### Possible Improvements\n",
    "1. **Advanced Preprocessing**: Incorporating more advanced text preprocessing techniques such as lemmatization and stemming.\n",
    "2. **Feature Engineering**: Exploring additional features such as word embeddings (e.g., Word2Vec, GloVe) to capture semantic information.\n",
    "3. **Ensemble Methods**: Combining multiple models to create an ensemble that can improve overall performance.\n",
    "4. **Hyperparameter Tuning**: Further fine-tuning of hyperparameters using more sophisticated search methods like Bayesian optimization.\n",
    "\n",
    "### Performance Comparison\n",
    "The performance of the models was evaluated using accuracy and F1 scores on the test set. Confusion matrices were generated to visualize the classification results for each method. The XGBoost classifier achieved the highest accuracy, followed by the Neural Network and Naive Bayes classifiers."
   ]
  }
 ],
 "metadata": {
  "colab": {
   "collapsed_sections": [
    "Q3PJZ9239Jsi",
    "5tVZfi609cmc",
    "nbXB8udM93Yz"
   ],
   "provenance": []
  },
  "kernelspec": {
   "display_name": "Python 3",
   "name": "python3"
  },
  "language_info": {
   "codemirror_mode": {
    "name": "ipython",
    "version": 3
   },
   "file_extension": ".py",
   "mimetype": "text/x-python",
   "name": "python",
   "nbconvert_exporter": "python",
   "pygments_lexer": "ipython3",
   "version": "3.12.7"
  }
 },
 "nbformat": 4,
 "nbformat_minor": 0
}
